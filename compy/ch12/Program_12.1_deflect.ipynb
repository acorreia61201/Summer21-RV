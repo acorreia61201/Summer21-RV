{
 "cells": [
  {
   "cell_type": "code",
   "execution_count": null,
   "metadata": {},
   "outputs": [],
   "source": [
    "#\n",
    "# Program 12.1: Deflection function (deflect.ipynb)\n",
    "# J Wang, Computational modeling and visualization with Python\n",
    "#\n",
    "\n",
    "import matplotlib.pyplot as plt\n",
    "import numpy as np, rootfinder as rtf, integral as itg\n",
    "%matplotlib notebook\n",
    "\n",
    "def V(r):           # plum potential\n",
    "    return Z*(3-r*r/(R*R))/(R+R) if (r<R) else Z/r\n",
    "\n",
    "def fu(u):          # f(u), turning point eqn\n",
    "    return 1 - V(1./u)/E - b*b*u*u\n",
    "   \n",
    "def fx(x):          # integrand, called by gauss\n",
    "    u = umin - x*x\n",
    "    return 2*x*b/np.sqrt(fu(u))\n",
    "\n",
    "def xection(theta, ba, da):     # cross section\n",
    "    cs = 0.0                    # ba=impact para, da=deflection angle\n",
    "    for i in range(len(ba)-1):\n",
    "        if ((theta-da[i])*(theta-da[i+1]) < 0.):   # theta bracketed \n",
    "            db = ba[i+1] - ba[i]\n",
    "            cs += (ba[i] + db/2.)*abs(db/(da[i+1]-da[i]))\n",
    "    return cs/np.sin(theta)\n",
    "    \n",
    "Z, R = 1.0, 1.0     # nuclear charge Z,  radius of plum potential\n",
    "E, b, bmax = 1.2, 0.01, 20.             # energy, initial b, bmax\n",
    "eps, tiny =1.E-14, 1.E-5                # rel error, u-limit\n",
    "ba, theta = [], []                      # impact para, deflection\n",
    "while (b <= bmax):\n",
    "    umin = rtf.bisect(fu, tiny, 1./b, eps)   # find turning pt\n",
    "    alpha = itg.gauss(fx, 0., np.sqrt(umin))\n",
    "    ba.append(b), theta.append(np.pi - 2*alpha)\n",
    "    b *= 1.02\n",
    "    \n",
    "plt.figure(), plt.plot(ba, theta)       # plot deflection function\n",
    "plt.xlabel('$b$ (a.u.)'), plt.ylabel('$\\Theta$', rotation=0)\n",
    "plt.yticks([0, np.pi/2, np.pi], ['$0$','$\\pi/2$', '$\\pi$'])\n",
    "plt.xlim(0,3)\n",
    "\n",
    "cs, sa = [], np.linspace(0.01, np.pi-.01, 500)  # scattering angle\n",
    "for x in sa:                            # calc, plot cross section\n",
    "    cs.append(xection(x, ba, theta))\n",
    "plt.figure(), plt.plot(sa, cs)\n",
    "plt.xlabel(r'$\\theta$'), plt.ylabel(r'$\\sigma(\\theta)$')\n",
    "plt.xticks([0, np.pi/2, np.pi], ['$0$','$\\pi/2$', '$\\pi$'])\n",
    "plt.xlim(0, np.pi),  plt.semilogy()\n",
    "\n",
    "plt.show()"
   ]
  },
  {
   "cell_type": "code",
   "execution_count": null,
   "metadata": {
    "collapsed": true
   },
   "outputs": [],
   "source": []
  }
 ],
 "metadata": {
  "kernelspec": {
   "display_name": "Python 3",
   "language": "python",
   "name": "python3"
  },
  "language_info": {
   "codemirror_mode": {
    "name": "ipython",
    "version": 3
   },
   "file_extension": ".py",
   "mimetype": "text/x-python",
   "name": "python",
   "nbconvert_exporter": "python",
   "pygments_lexer": "ipython3",
   "version": "3.6.1"
  }
 },
 "nbformat": 4,
 "nbformat_minor": 2
}
