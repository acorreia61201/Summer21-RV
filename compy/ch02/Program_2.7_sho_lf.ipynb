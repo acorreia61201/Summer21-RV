{
 "cells": [
  {
   "cell_type": "code",
   "execution_count": null,
   "metadata": {},
   "outputs": [],
   "source": [
    "#\n",
    "# Program 2.7: Oscillator with leapfrog method (sho_lf.ipynb)\n",
    "# J Wang, Computational modeling and visualization with Python\n",
    "#\n",
    "\n",
    "import ode                      # get ODE solvers\n",
    "import math as ma               # get math functions\n",
    "import matplotlib.pyplot as plt # get matplotlib plot functions\n",
    "%matplotlib notebook\n",
    "    \n",
    "def oscillator(id, x, v, t):    # return dx/dt or dv/dt\n",
    "    if (id==0):             # calc velocity\n",
    "        return v        \n",
    "    else:                   # calc acceleration\n",
    "        return -x           # $-\\omega^2 x, \\omega=1$,\n",
    "        \n",
    "def go():                   # main program\n",
    "    x, v = 1.0, 0.0         # initial values\n",
    "    t, h = 0.0, 0.1         # init time, step size\n",
    "    xa, va = [],[]          # declare arrays for plotting\n",
    "    while t<4*ma.pi:        # loop for two periods  \n",
    "        xa.append(x)        # record position and velocity\n",
    "        va.append(v)\n",
    "        x, v = ode.leapfrog(oscillator, x, v, t, h) # solve it \n",
    "        t = t + h\n",
    "\n",
    "    plt.figure()            # start a figure    \n",
    "    plt.plot(xa,va)         # plot vel-pos\n",
    "    plt.xlabel('x (m)')     # add labels\n",
    "    plt.ylabel('v (m/s)')\n",
    "    plt.show()              # show figure       \n",
    "    \n",
    "go()                        # run the program"
   ]
  },
  {
   "cell_type": "code",
   "execution_count": null,
   "metadata": {
    "collapsed": true
   },
   "outputs": [],
   "source": []
  }
 ],
 "metadata": {
  "kernelspec": {
   "display_name": "Python 3",
   "language": "python",
   "name": "python3"
  },
  "language_info": {
   "codemirror_mode": {
    "name": "ipython",
    "version": 3
   },
   "file_extension": ".py",
   "mimetype": "text/x-python",
   "name": "python",
   "nbconvert_exporter": "python",
   "pygments_lexer": "ipython3",
   "version": "3.6.1"
  }
 },
 "nbformat": 4,
 "nbformat_minor": 2
}
