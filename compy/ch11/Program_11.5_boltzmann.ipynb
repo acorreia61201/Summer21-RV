{
 "cells": [
  {
   "cell_type": "code",
   "execution_count": null,
   "metadata": {},
   "outputs": [],
   "source": [
    "#\n",
    "# Program 11.5: Boltzmann distribution (boltzmann.ipynb)\n",
    "# J Wang, Computational modeling and visualization with Python\n",
    "#\n",
    "\n",
    "from einsteinsolid import EinsteinSolid\n",
    "import matplotlib.pyplot as plt, numpy as np\n",
    "%matplotlib notebook\n",
    "\n",
    "solid = EinsteinSolid(N=1024, q=1)      # initialize solid\n",
    "L, M, kT = 100, 6, 1./np.log(2.)        # L = base iteration num.\n",
    "E, bin = np.linspace(0., M, 100), np.zeros(M+1)\n",
    "fig = plt.figure()\n",
    "for i in range(9):                      # 3x3 subplots\n",
    "    ax = fig.add_subplot(3, 3, i+1)\n",
    "    for n in range(M+1):\n",
    "        bin[n] = solid.cell.count(n)    # count n   @\\lbl{line:count}@\n",
    "    plt.step(range(len(bin)), bin/max(bin), where='mid')\n",
    "    plt.plot(E, np.exp(-E/kT))\n",
    "    if (i == 3): plt.ylabel('$P(n)$', fontsize=14)\n",
    "    if (i == 7): plt.xlabel('$n$', fontsize=14)\n",
    "    if (i <= 5):\n",
    "        plt.xticks(range(M+1), ['' for j in range(M+1)])\n",
    "    if (i > 0): plt.text(M-2, 0.8, repr(L*2**(i-1)))\n",
    "    solid.exchange(L*2**i)              # double L each time\n",
    "plt.show()"
   ]
  },
  {
   "cell_type": "code",
   "execution_count": null,
   "metadata": {
    "collapsed": true
   },
   "outputs": [],
   "source": []
  }
 ],
 "metadata": {
  "kernelspec": {
   "display_name": "Python 3",
   "language": "python",
   "name": "python3"
  },
  "language_info": {
   "codemirror_mode": {
    "name": "ipython",
    "version": 3
   },
   "file_extension": ".py",
   "mimetype": "text/x-python",
   "name": "python",
   "nbconvert_exporter": "python",
   "pygments_lexer": "ipython3",
   "version": "3.6.1"
  }
 },
 "nbformat": 4,
 "nbformat_minor": 2
}
