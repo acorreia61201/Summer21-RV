{
 "cells": [
  {
   "cell_type": "code",
   "execution_count": null,
   "metadata": {
    "collapsed": false
   },
   "outputs": [],
   "source": [
    "#\n",
    "# Program 11.7: N-body molecular dynamics (md.ipynb)\n",
    "# J Wang, Computational modeling and visualization with Python\n",
    "#\n",
    "\n",
    "import ode, vpmnb as vpm, random as rnd\n",
    "import numpy as np, vpython as vp\n",
    "vec = vp.vector\n",
    "\n",
    "def nbody(id, r, v, t):                     # N-body MD\n",
    "    if (id == 0):                           # velocity\n",
    "        return v\n",
    "    a = np.zeros((N,3))                     # acceleration\n",
    "    for i in range(N):\n",
    "        rij = r[i]-r[i+1:]                  # rij for all j>i \n",
    "        rij[rij > HL]  -= L                 # periodic bc\n",
    "        rij[rij < -HL] += L\n",
    "        r2 = np.sum(rij*rij, axis=1)        # |rij|^2\n",
    "        r6 = r2*r2*r2\n",
    "        for k in [0,1,2]:                   # L-J force in x,y,z\n",
    "            fij = 12.*(1. - r6)*rij[:,k]/(r6*r6*r2)\n",
    "            a[i,k] += np.sum(fij)\n",
    "            a[i+1:,k] -= fij                # 3rd law\n",
    "    return a\n",
    "    \n",
    "L, N = 10.0, 40                             # cube size, num. atoms\n",
    "atoms, HL, t, h = [], L/2., 0., 0.002\n",
    "r, v =  np.zeros((N,3)), np.zeros((N,3))\n",
    "\n",
    "scene = vp.canvas(background=vec(.2,.5,1), center=vec(L/2, L/3, L/2))\n",
    "vp.box(pos=vec(HL,HL,HL), length=L, height=L, width=L, opacity=0.3)\n",
    "col=[vec(0,0,0),vec(1,0,0),vec(1,1,0),vec(0,1,0),vec(0,0,1),vec(1,1,1),vec(1,0,1)]\n",
    "for i in range(N):                          # initial pos, vel\n",
    "    for k in range(3):\n",
    "        r[i,k] = L*rnd.random()\n",
    "        v[i,k] = 1-2*rnd.random()\n",
    "    atoms.append(vp.sphere(pos=vec(r[i,0],r[i,1],r[i,2]), radius=0.04*L, \n",
    "                           color=col[rnd.randint(0,len(col)-1)]))\n",
    "v -= np.sum(v, axis=0)/N                    # center of mass frame \n",
    "\n",
    "while (1):\n",
    "    vpm.wait(scene), vp.rate(1000)\n",
    "    r, v = ode.leapfrog(nbody, r, v, t, h)\n",
    "    while((r>L).any()): r[r > L]  -= L      # periodic bc, repeat in case of bad init config\n",
    "    while((r<0.).any()): r[r < 0.] += L\n",
    "    for i in range(N): atoms[i].pos = vec(r[i,0],r[i,1],r[i,2])  # move atoms\n"
   ]
  },
  {
   "cell_type": "code",
   "execution_count": null,
   "metadata": {
    "collapsed": true
   },
   "outputs": [],
   "source": []
  }
 ],
 "metadata": {
  "kernelspec": {
   "display_name": "Python 2",
   "language": "python",
   "name": "python2"
  },
  "language_info": {
   "codemirror_mode": {
    "name": "ipython",
    "version": 2
   },
   "file_extension": ".py",
   "mimetype": "text/x-python",
   "name": "python",
   "nbconvert_exporter": "python",
   "pygments_lexer": "ipython2",
   "version": "2.7.8"
  }
 },
 "nbformat": 4,
 "nbformat_minor": 1
}
