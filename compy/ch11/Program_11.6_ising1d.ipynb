{
 "cells": [
  {
   "cell_type": "code",
   "execution_count": null,
   "metadata": {},
   "outputs": [],
   "source": [
    "#\n",
    "# Program 11.6: Ising model in 1D (ising1d.ipynb)\n",
    "# J Wang, Computational modeling and visualization with Python\n",
    "#\n",
    "\n",
    "import random as rnd, numpy as np\n",
    "import matplotlib.pyplot as plt\n",
    "%matplotlib notebook\n",
    "\n",
    "def initialize(N):  # set initial spins\n",
    "    p, spin, E, M = 0.5, [1]*N, 0., 0.      # p = order para.\n",
    "    for i in range(1, N):\n",
    "         if (rnd.random() < p): spin[i]=-1\n",
    "         E = E - spin[i-1]*spin[i]\n",
    "         M = M + spin[i]\n",
    "    return spin, E - spin[N-1]*spin[0], M+spin[0]\n",
    "\n",
    "def update(N, spin, kT, E, M):      # Metropolis sampling\n",
    "    i, flip = rnd.randint(0, N-1), 0\n",
    "    dE = 2*spin[i]*(spin[i-1] + spin[(i+1)%N])  # periodic bc\n",
    "    if (dE < 0.0): flip=1           # flip if dE<0, else flip \n",
    "    else:                           # according to exp(-dE/kT)\n",
    "        p = np.exp(-dE/kT)\n",
    "        if (rnd.random() < p): flip=1\n",
    "    if (flip == 1):                 # accept\n",
    "        E = E + dE\n",
    "        M = M - 2*spin[i]\n",
    "        spin[i] = -spin[i]\n",
    "    return E, M\n",
    "\n",
    "N, passes = 1000, 10\n",
    "iter, Nmc = passes*N, passes*N\n",
    "T, Eavg, Mavg = [], [], []\n",
    "for i in range(1,41):               # temperature loop\n",
    "    kT = 0.1*i                      # kT = reservoir temperature\n",
    "    spin, E, M  = initialize(N)\n",
    "    for k in range(iter):           # let it equilibrate\n",
    "        E, M = update(N, spin, kT, E, M)\n",
    "        \n",
    "    E1, M1 = 0., 0.\n",
    "    for k in range(Nmc):            # take averages\n",
    "        E, M = update(N, spin, kT, E, M)\n",
    "        E1, M1 = E1 + E, M1 + M\n",
    "    E1, M1 = E1/Nmc, M1/Nmc\n",
    "    T.append(kT), Eavg.append(E1/N), Mavg.append(M1/N)\n",
    "    \n",
    "plt.figure()\n",
    "plt.plot(T, Eavg, 'o', T, -np.tanh(1./np.array(T)))\n",
    "plt.xlabel('$kT/\\epsilon$'), plt.ylabel(r'$\\langle E \\rangle/N\\epsilon$')\n",
    "plt.figure()\n",
    "plt.plot(T, Mavg,'o')\n",
    "plt.xlabel('$kT/\\epsilon$'), plt.ylabel(r'$\\langle M \\rangle/N$')\n",
    "plt.show()"
   ]
  },
  {
   "cell_type": "code",
   "execution_count": null,
   "metadata": {
    "collapsed": true
   },
   "outputs": [],
   "source": []
  }
 ],
 "metadata": {
  "kernelspec": {
   "display_name": "Python 3",
   "language": "python",
   "name": "python3"
  },
  "language_info": {
   "codemirror_mode": {
    "name": "ipython",
    "version": 3
   },
   "file_extension": ".py",
   "mimetype": "text/x-python",
   "name": "python",
   "nbconvert_exporter": "python",
   "pygments_lexer": "ipython3",
   "version": "3.6.1"
  }
 },
 "nbformat": 4,
 "nbformat_minor": 2
}
