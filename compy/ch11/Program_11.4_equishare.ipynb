{
 "cells": [
  {
   "cell_type": "code",
   "execution_count": null,
   "metadata": {},
   "outputs": [],
   "source": [
    "#\n",
    "# Program 11.4: Equilibrium energy sharing (equishare.ipynb)\n",
    "# J Wang, Computational modeling and visualization with Python\n",
    "#\n",
    "\n",
    "from einsteinsolid import EinsteinSolid\n",
    "import matplotlib.pyplot as plt, numpy as np\n",
    "import matplotlib.animation as am\n",
    "%matplotlib notebook\n",
    "\n",
    "def updateimg(*args):                   # args[0] = frame\n",
    "    L = 20 if args[0]<400 else 200      # slower init rate\n",
    "    solid.exchange(L)\n",
    "    plot.set_data(np.reshape(solid.cell, (K,K)))  # update image\n",
    "    return [plot]                       # return line object in a list\n",
    "    \n",
    "K = 20                                  # grid dimension\n",
    "solid = EinsteinSolid(N = K*K, q=10)    # 10 units of energy/cell\n",
    "fig = plt.figure()\n",
    "img = np.reshape(solid.cell, (K,K))     # shape to KxK image\n",
    "plot = plt.imshow(img, interpolation='none', vmin=0, vmax=50)\n",
    "plt.colorbar(plot)\n",
    "\n",
    "anim = am.FuncAnimation(fig, updateimg, interval=1, blit=True)  # animate\n",
    "plt.show()"
   ]
  },
  {
   "cell_type": "code",
   "execution_count": null,
   "metadata": {
    "collapsed": true
   },
   "outputs": [],
   "source": []
  }
 ],
 "metadata": {
  "kernelspec": {
   "display_name": "Python 3",
   "language": "python",
   "name": "python3"
  },
  "language_info": {
   "codemirror_mode": {
    "name": "ipython",
    "version": 3
   },
   "file_extension": ".py",
   "mimetype": "text/x-python",
   "name": "python",
   "nbconvert_exporter": "python",
   "pygments_lexer": "ipython3",
   "version": "3.6.1"
  }
 },
 "nbformat": 4,
 "nbformat_minor": 2
}
