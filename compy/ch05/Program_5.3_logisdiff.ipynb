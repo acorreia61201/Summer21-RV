{
 "cells": [
  {
   "cell_type": "code",
   "execution_count": null,
   "metadata": {},
   "outputs": [],
   "source": [
    "#\n",
    "# Program 5.3: Initial value dependence of logistic map (logisdiff.ipynb)\n",
    "# J Wang, Computational modeling and visualization with Python\n",
    "#\n",
    "\n",
    "import matplotlib.pyplot as plt     # get matplotlib plot functions\n",
    "import sys\n",
    "%matplotlib notebook\n",
    "\n",
    "if (sys.version_info[0] < 3):\n",
    "    x1, r = input('enter x1, r; eg .4, .7 : ')\n",
    "else:\n",
    "    x1, r = eval(input('enter x1, r; eg .4, .7 : '))\n",
    "x2 = x1 + 0.01              # initial difference\n",
    "n, xn1, xn2, diff = 20, [], [], []                 # buffers\n",
    "for i in range(n):\n",
    "    xn1.append(x1), xn2.append(x2), diff.append(abs(x1-x2))\n",
    "    x1, x2 = 4*r*x1*(1.0-x1), 4*r*x2*(1.0-x2)      # parallel iterates\n",
    "    \n",
    "plt.figure()                # plot the series\n",
    "plt.plot(range(n), xn1, 's-', range(n), xn2,'o-')  # squares & circles\n",
    "plt.xlabel('$n$'), plt.ylabel('$x_n$')\n",
    "plt.text(3, .01+min(xn1),'$r=$' + repr(r))\n",
    "\n",
    "plt.figure()                # plot the difference\n",
    "plt.plot(range(n), diff)\n",
    "plt.semilogy()              # semilog scale\n",
    "plt.xlabel('$n$'),  plt.ylabel('$\\Delta x$')\n",
    "plt.show()"
   ]
  },
  {
   "cell_type": "code",
   "execution_count": null,
   "metadata": {
    "collapsed": true
   },
   "outputs": [],
   "source": []
  }
 ],
 "metadata": {
  "kernelspec": {
   "display_name": "Python 3",
   "language": "python",
   "name": "python3"
  },
  "language_info": {
   "codemirror_mode": {
    "name": "ipython",
    "version": 3
   },
   "file_extension": ".py",
   "mimetype": "text/x-python",
   "name": "python",
   "nbconvert_exporter": "python",
   "pygments_lexer": "ipython3",
   "version": "3.6.1"
  }
 },
 "nbformat": 4,
 "nbformat_minor": 2
}
