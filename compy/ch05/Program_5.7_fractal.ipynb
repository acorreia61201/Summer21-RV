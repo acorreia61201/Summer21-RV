{
 "cells": [
  {
   "cell_type": "code",
   "execution_count": null,
   "metadata": {},
   "outputs": [],
   "source": [
    "#\n",
    "# Program 5.7: Mandelbrot fractal (fractal.ipynb)\n",
    "# J Wang, Computational modeling and visualization with Python\n",
    "#\n",
    "\n",
    "import numpy as np, matplotlib.pyplot as plt\n",
    "from numba import jit               # comment out if jit not available\n",
    "%matplotlib notebook\n",
    "\n",
    "@jit                                # just-in-time compiling\n",
    "def mandelbrot(c, maxi):\n",
    "    z = c\n",
    "    for m in range(maxi):           # maxi=max iterations\n",
    "        z = z*z + c\n",
    "        if (z.real*z.real + z.imag*z.imag >=4.0): break\n",
    "    return m\n",
    "    \n",
    "xl, xr, yb, yt = -2.2, 0.8, -1.2, 1.2           # box size\n",
    "nx, ny, maxi = 600, 481, 100\n",
    "x, y = np.linspace(xl,xr,nx), np.linspace(yb,yt,ny)\n",
    "fractal = np.zeros((ny, nx, 3))                 # fractal RGB image\n",
    "for i in range(nx):\n",
    "    for k in range(ny):\n",
    "        m = mandelbrot(x[i] + 1j*y[k], maxi)    # point in complex plane\n",
    "        fractal[k, i] = [m, 2*m, 3*m]           # RGB color mix\n",
    "plt.imshow(fractal/maxi, extent=[xl,xr,yb,yt])  # plot as image\n",
    "plt.show()"
   ]
  },
  {
   "cell_type": "code",
   "execution_count": null,
   "metadata": {
    "collapsed": true
   },
   "outputs": [],
   "source": []
  }
 ],
 "metadata": {
  "kernelspec": {
   "display_name": "Python 3",
   "language": "python",
   "name": "python3"
  },
  "language_info": {
   "codemirror_mode": {
    "name": "ipython",
    "version": 3
   },
   "file_extension": ".py",
   "mimetype": "text/x-python",
   "name": "python",
   "nbconvert_exporter": "python",
   "pygments_lexer": "ipython3",
   "version": "3.6.1"
  }
 },
 "nbformat": 4,
 "nbformat_minor": 2
}
