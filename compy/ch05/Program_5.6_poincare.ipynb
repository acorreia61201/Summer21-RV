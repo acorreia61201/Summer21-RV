{
 "cells": [
  {
   "cell_type": "code",
   "execution_count": null,
   "metadata": {},
   "outputs": [],
   "source": [
    "#\n",
    "# Program 5.6: Poincar\\'e map (poincare.ipynb)\n",
    "# J Wang, Computational modeling and visualization with Python\n",
    "#\n",
    "\n",
    "import matplotlib.pyplot as plt     # get matplotlib plot functions\n",
    "import ode, math as ma              # get ODE, math functions \n",
    "%matplotlib notebook\n",
    "\n",
    "def remap(x):        # remap theta to [-pi,pi]\n",
    "    if (abs(x) > pi): x = (x - 2*pi if x>0 else x + 2*pi)\n",
    "    return x\n",
    "\n",
    "def pendulum(y, t):  # y = [theta, omega], omega_0 = 1\n",
    "    return [y[1], -ma.sin(y[0]) - b*y[1] + fd*ma.cos(omega_d*t)]\n",
    "    \n",
    "def poincare(transient, n_periods):    # transient periods, n_periods\n",
    "    bins = 40               # number of points per period \n",
    "    t, y, h = 0.0, [0.6, 0.0], 2*pi/(omega_d*bins)  # init values\n",
    "    theta, omega = [], []\n",
    "    for i in range(bins*transient):    # discard transients\n",
    "        t, y = t+h, ode.RK4n(pendulum, y, t, h)\n",
    "        y[0] = remap(y[0])\n",
    "    for i in range(bins*n_periods):\n",
    "        if (i%(bins//2) == 0):         # record every half a period \n",
    "            theta.append(y[0]), omega.append(y[1])\n",
    "        t, y = t+h, ode.RK4n(pendulum, y, t, h)\n",
    "        y[0] = remap(y[0])\n",
    "        \n",
    "    return theta, omega\n",
    "\n",
    "b, omega_d = 0.5, 0.6       # damping coeff., driving frequency\n",
    "subnum, pi = 1, ma.pi       # subplot number, pi\n",
    "plt.figure()\n",
    "for fd in [0.7, 1.1, 1.2]: \n",
    "    theta, omega = poincare(transient = 20, n_periods = 400)\n",
    "    ax = plt.subplot(3, 1, subnum)     # 3x1 subplots\n",
    "    ax.plot(theta, omega, '.'), ax.set_xlim(-pi, pi)\n",
    "    if (subnum == 2): ax.set_ylabel('$\\\\omega$ (rad/s)')\n",
    "    subnum, fdtxt = subnum + 1, '$F_d=$'+repr(fd)\n",
    "    ax.text(-3, min(omega), fdtxt)\n",
    "    \n",
    "plt.xlabel('$\\\\theta$ (rad)')\n",
    "plt.show()"
   ]
  },
  {
   "cell_type": "code",
   "execution_count": null,
   "metadata": {
    "collapsed": true
   },
   "outputs": [],
   "source": []
  }
 ],
 "metadata": {
  "kernelspec": {
   "display_name": "Python 3",
   "language": "python",
   "name": "python3"
  },
  "language_info": {
   "codemirror_mode": {
    "name": "ipython",
    "version": 3
   },
   "file_extension": ".py",
   "mimetype": "text/x-python",
   "name": "python",
   "nbconvert_exporter": "python",
   "pygments_lexer": "ipython3",
   "version": "3.6.1"
  }
 },
 "nbformat": 4,
 "nbformat_minor": 2
}
