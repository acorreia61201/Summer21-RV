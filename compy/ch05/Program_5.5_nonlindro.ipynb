{
 "cells": [
  {
   "cell_type": "code",
   "execution_count": null,
   "metadata": {},
   "outputs": [],
   "source": [
    "#\n",
    "# Program 5.5: Nonlindro: Nonlinear driven oscillator (nonlindro.ipynb)\n",
    "# J Wang, Computational modeling and visualization with Python\n",
    "#\n",
    "\n",
    "import matplotlib.pyplot as plt     # get matplotlib plot functions\n",
    "import ode, math as ma              # get ODE, math functions \n",
    "%matplotlib notebook\n",
    "\n",
    "def pendulum(y, t):  # y = [theta, omega], omega_0 = 1\n",
    "    return [y[1], -ma.sin(y[0]) - b*y[1] + fd*ma.cos(omega_d*t)]\n",
    "\n",
    "def solution(n_periods):    # find solutions for n_periods\n",
    "    bins = 40               # number of points per period         \n",
    "    t, y, h = 0.0, [1.0, 0.0], 2*pi/(omega_d*bins)  # init values \n",
    "    ta, theta, omega = [], [], []\n",
    "    for i in range(n_periods*bins):\n",
    "        ta.append(t), theta.append(y[0]), omega.append(y[1])\n",
    "        t, y = t+h, ode.RK4n(pendulum, y, t, h)\n",
    "    return ta, theta, omega\n",
    "\n",
    "b, omega_d = 0.5, 0.6       # damping coeff., driving frequency\n",
    "subnum, pi = 1, ma.pi       # subplot number, pi\n",
    "plt.figure()\n",
    "for fd in [0.7, 1.1]: \n",
    "    ax1 = plt.subplot(2, 2, subnum)        # 2x2 subplots \n",
    "    ax2 = plt.subplot(2, 2, subnum+2)\n",
    "    ta, theta, omega = solution(n_periods = 5)\n",
    "    ax1.plot(ta, theta), ax2.plot(ta, omega)\n",
    "    if (subnum == 1):                      # subplot specific label\n",
    "        ax1.set_ylabel('$\\\\theta$ (rad)')\n",
    "        ax2.set_ylabel('$\\\\omega$ (rad/s)')\n",
    "    subnum, fdtxt = subnum + 1, '$F_d=$'+repr(fd)\n",
    "    ax1.text(17, max(theta), fdtxt),  ax2.text(17, max(omega), fdtxt)\n",
    "    plt.xlabel('t (s)')\n",
    "plt.show()"
   ]
  },
  {
   "cell_type": "code",
   "execution_count": null,
   "metadata": {
    "collapsed": true
   },
   "outputs": [],
   "source": []
  }
 ],
 "metadata": {
  "kernelspec": {
   "display_name": "Python 3",
   "language": "python",
   "name": "python3"
  },
  "language_info": {
   "codemirror_mode": {
    "name": "ipython",
    "version": 3
   },
   "file_extension": ".py",
   "mimetype": "text/x-python",
   "name": "python",
   "nbconvert_exporter": "python",
   "pygments_lexer": "ipython3",
   "version": "3.6.1"
  }
 },
 "nbformat": 4,
 "nbformat_minor": 2
}
