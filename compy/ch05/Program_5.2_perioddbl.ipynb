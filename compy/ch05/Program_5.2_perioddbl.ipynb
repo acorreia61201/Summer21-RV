{
 "cells": [
  {
   "cell_type": "code",
   "execution_count": null,
   "metadata": {},
   "outputs": [],
   "source": [
    "#\n",
    "# Program 5.2: Period doubling (perioddbl.ipynb)\n",
    "# J Wang, Computational modeling and visualization with Python\n",
    "#\n",
    "\n",
    "import matplotlib.pyplot as plt     # get matplotlib plot functions\n",
    "%matplotlib notebook\n",
    "\n",
    "ntrans, nsteps = 1000, 200          # num. of transients and to keep\n",
    "r, rend, dr, x, xa = 0.7, 1.0, 0.001, 0.5, [0.0]*nsteps\n",
    "plt.figure()\n",
    "while r <= rend:\n",
    "    for i in range(ntrans): x = 4*r*x*(1-x)     # discard transients\n",
    "    for i in range(nsteps): xa[i], x = x, 4*r*x*(1-x)  # keep rest\n",
    "    plt.plot([r]*nsteps, xa, 'b,')              # blue pixel markers\n",
    "    r = r + dr\n",
    "plt.xlabel('r'),  plt.ylabel('x'), plt.show()"
   ]
  },
  {
   "cell_type": "code",
   "execution_count": null,
   "metadata": {
    "collapsed": true
   },
   "outputs": [],
   "source": []
  }
 ],
 "metadata": {
  "kernelspec": {
   "display_name": "Python 3",
   "language": "python",
   "name": "python3"
  },
  "language_info": {
   "codemirror_mode": {
    "name": "ipython",
    "version": 3
   },
   "file_extension": ".py",
   "mimetype": "text/x-python",
   "name": "python",
   "nbconvert_exporter": "python",
   "pygments_lexer": "ipython3",
   "version": "3.6.1"
  }
 },
 "nbformat": 4,
 "nbformat_minor": 2
}
