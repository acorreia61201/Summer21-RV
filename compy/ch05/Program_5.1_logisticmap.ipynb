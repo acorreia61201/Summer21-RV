{
 "cells": [
  {
   "cell_type": "code",
   "execution_count": null,
   "metadata": {},
   "outputs": [],
   "source": [
    "#\n",
    "# Program 5.1: Logistic map (logisticmap.ipynb)\n",
    "# J Wang, Computational modeling and visualization with Python\n",
    "#\n",
    "\n",
    "from __future__ import print_function       # use print() as function\n",
    "import matplotlib.pyplot as plt     # get matplotlib plot functions\n",
    "import sys\n",
    "%matplotlib notebook\n",
    "\n",
    "if (sys.version_info[0] < 3):\n",
    "    x, r = input('enter x0, r: ')\n",
    "else:\n",
    "    x, r = eval(input('enter x0, r: '))\n",
    "n, xn = 40, []\n",
    "for i in range(n):\n",
    "    xn.append(x)                    # new line every 4 steps\n",
    "    print('%8f' %x, end='\\n' if len(xn)%4==0 else ' ') # inline if \n",
    "    x = 4*r*x*(1.0-x)               # next iteration, logistic map\n",
    "    \n",
    "plt.figure()\n",
    "plt.plot(range(n), xn, '--o')       # plot dashed line with 'o' symbol\n",
    "plt.xlabel('$n$'), plt.ylabel('$x_n$')\n",
    "plt.ylim(0,1), plt.text(33, .1, 'r='+ repr(r))   # add text \n",
    "plt.show()"
   ]
  },
  {
   "cell_type": "code",
   "execution_count": null,
   "metadata": {
    "collapsed": true
   },
   "outputs": [],
   "source": []
  }
 ],
 "metadata": {
  "kernelspec": {
   "display_name": "Python 3",
   "language": "python",
   "name": "python3"
  },
  "language_info": {
   "codemirror_mode": {
    "name": "ipython",
    "version": 3
   },
   "file_extension": ".py",
   "mimetype": "text/x-python",
   "name": "python",
   "nbconvert_exporter": "python",
   "pygments_lexer": "ipython3",
   "version": "3.6.1"
  }
 },
 "nbformat": 4,
 "nbformat_minor": 2
}
