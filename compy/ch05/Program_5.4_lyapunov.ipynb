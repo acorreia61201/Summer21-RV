{
 "cells": [
  {
   "cell_type": "code",
   "execution_count": null,
   "metadata": {},
   "outputs": [],
   "source": [
    "#\n",
    "# Program 5.4: Lyapunov exponent of logistic map (lyapunov.ipynb)\n",
    "# J Wang, Computational modeling and visualization with Python\n",
    "#\n",
    "\n",
    "import matplotlib.pyplot as plt     # get matplotlib plot functions\n",
    "import math as ma                   # get math functions \n",
    "%matplotlib notebook\n",
    "\n",
    "def lyapunov(r):                    # compute Lyapunov exponent\n",
    "    sum, x, ntrans, nsteps = 0.0, 0.5, 2000, 2000     # try diff num.\n",
    "    for i in range(ntrans):         # let transients pass\n",
    "        x = 4*r*x*(1-x)     \n",
    "    for i in range(nsteps):         # sum up next n steps\n",
    "        x = 4*r*x*(1-x) \n",
    "        dfdx = 4.0*r*(1.0-x-x)      # \n",
    "        sum += ma.log(abs(dfdx))\n",
    "    return sum/float(nsteps)        # lambda \n",
    "    \n",
    "ra, lyap, r, dr = [], [], 0.7, 0.0001\n",
    "while r < 1.0: \n",
    "    r = r + dr\n",
    "    ra.append(r), lyap.append(lyapunov(r))\n",
    "    \n",
    "plt.figure()\n",
    "plt.plot(ra, lyap, ',')             # ','=pixels\n",
    "plt.axhline(0.), plt.ylim(-2, 1)    # draw horiz. line, set y limits\n",
    "plt.xlabel('$r$'), plt.ylabel('$\\lambda$')\n",
    "plt.show()"
   ]
  },
  {
   "cell_type": "code",
   "execution_count": null,
   "metadata": {
    "collapsed": true
   },
   "outputs": [],
   "source": []
  }
 ],
 "metadata": {
  "kernelspec": {
   "display_name": "Python 3",
   "language": "python",
   "name": "python3"
  },
  "language_info": {
   "codemirror_mode": {
    "name": "ipython",
    "version": 3
   },
   "file_extension": ".py",
   "mimetype": "text/x-python",
   "name": "python",
   "nbconvert_exporter": "python",
   "pygments_lexer": "ipython3",
   "version": "3.6.1"
  }
 },
 "nbformat": 4,
 "nbformat_minor": 2
}
