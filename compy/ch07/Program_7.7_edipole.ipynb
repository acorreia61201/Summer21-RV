{
 "cells": [
  {
   "cell_type": "code",
   "execution_count": null,
   "metadata": {
    "collapsed": false
   },
   "outputs": [],
   "source": [
    "#\n",
    "# Program 7.7: Electric dipole fields (edipole.ipynb)\n",
    "# J Wang, Computational modeling and visualization with Python\n",
    "#\n",
    "\n",
    "import vpython as vp, numpy as np\n",
    "vec = vp.vector\n",
    "                               \n",
    "r, scale, m, n = 0.5, 0.05, 11, 19         # parameters\n",
    "scene = vp.canvas(title='Electric dipole', background=vec(.2,.5,1), \n",
    "                   forward=vec(0,-1,-.5), up=vec(0,0,1))\n",
    "zaxis = vp.curve(pos=[(0,0,-r),(0,0,r)])                    \n",
    "qpos = vp.sphere(pos=vec(0,0,.02), radius=0.01, color=vec(1,0,0))\n",
    "qneg = vp.sphere(pos=vec(0,0,-.02), radius=0.01, color=vec(0,0,1))\n",
    "c1 = vp.ring(pos=vec(0,0,0), radius=r, axis=vec(0,0,1), thickness=0.002)\n",
    "c2 = vp.ring(pos=vec(0,0,0), radius=r, axis=vec(0,1,0), thickness=0.002)\n",
    "\n",
    "theta, phi = np.linspace(0, np.pi, m), np.linspace(0, 2*np.pi, n) # grid \n",
    "phi, theta = np.meshgrid(phi, theta)\n",
    "rs = r*np.sin(theta)\n",
    "x, y, z = rs*np.cos(phi), rs*np.sin(phi), r*np.cos(theta)   # coord. \n",
    "for i in range(m):\n",
    "    for j in range(n):\n",
    "        rvec = vec(x[i,j], y[i,j], z[i,j])\n",
    "        B = scale*vp.cross(rvec, vec(0,0,1))/(r*r)          # $\\vec{r}\\times \\hat z/r^2$\n",
    "        E = vp.cross(B, rvec)/r                             # $\\vec{B}\\times \\vec{r}/r$\n",
    "        vp.arrow(pos=rvec, axis=E, length=vp.mag(E), color=vec(1,1,0))\n",
    "        vp.arrow(pos=rvec, axis=B, length=vp.mag(B), color=vec(0,1,1))"
   ]
  },
  {
   "cell_type": "code",
   "execution_count": null,
   "metadata": {
    "collapsed": true
   },
   "outputs": [],
   "source": []
  }
 ],
 "metadata": {
  "kernelspec": {
   "display_name": "Python 2",
   "language": "python",
   "name": "python2"
  },
  "language_info": {
   "codemirror_mode": {
    "name": "ipython",
    "version": 2
   },
   "file_extension": ".py",
   "mimetype": "text/x-python",
   "name": "python",
   "nbconvert_exporter": "python",
   "pygments_lexer": "ipython2",
   "version": "2.7.8"
  }
 },
 "nbformat": 4,
 "nbformat_minor": 1
}
