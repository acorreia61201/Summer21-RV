{
 "cells": [
  {
   "cell_type": "code",
   "execution_count": null,
   "metadata": {},
   "outputs": [],
   "source": [
    "#\n",
    "# Program 7.3: Laplace equation by FEM (laplacefem.ipynb)\n",
    "# J Wang, Computational modeling and visualization with Python\n",
    "#\n",
    "\n",
    "from scipy.linalg import solve\n",
    "from mpl_toolkits.mplot3d import Axes3D\n",
    "import matplotlib.pyplot as plt, numpy as np\n",
    "%matplotlib notebook\n",
    "\n",
    "def mesh(L, N):           # generate mesh\n",
    "    elm, bv = [], []      # elements: $[[n_1,n_2,n_3],..]$, bndry value\n",
    "    x, y = np.linspace(0,L,N+1), np.linspace(0,L,N+1)   # same x,y grids\n",
    "    ndn = np.arange((N+1)*(N+1)).reshape(N+1,N+1)       # node number \n",
    "    node = [[xi, yj] for xi in x for yj in y]           # nodes \n",
    "    for j in range(N):\n",
    "        for i in range(N):\n",
    "            elm.append([ndn[i,j], ndn[i+1,j+1], ndn[i,j+1]])  # upper \n",
    "            elm.append([ndn[i,j], ndn[i+1,j], ndn[i+1,j+1]])  # lower \n",
    "\n",
    "    ip = ndn[1:-1,1:-1].flatten()       # internal nodes \n",
    "    bp = np.delete(ndn, ip)             # boundary nodes=all-internal \n",
    "    for p in bp:\n",
    "        bv.append((node[p][0]*node[p][1])**2)   #   boundary values\n",
    "    return node, elm, bp, ip, bv, x, y\n",
    "\n",
    "def fem_mat(node, elm):      # fills matrix $A_{ij} = \\langle \\nabla \\phi_i \\cdot \\nabla \\phi_j \\rangle $\n",
    "    A = np.zeros((len(node),len(node)))\n",
    "    for e in elm:\n",
    "        (x1,y1), (x2,y2), (x3,y3) = node[e[0]], node[e[1]], node[e[2]]\n",
    "        beta, gama = [y2-y3, y3-y1, y1-y2], [x3-x2, x1-x3, x2-x1]\n",
    "        ar = 2*(x1*(y2-y3) + x2*(y3-y1) + x3*(y1-y2))\n",
    "        for i in range(3):\n",
    "            for j in range(i,3):\n",
    "                A[e[i],e[j]] += (beta[i]*beta[j] + gama[i]*gama[j])/ar\n",
    "                if (i != j): A[e[j],e[i]] = A[e[i],e[j]]    # symmetry\n",
    "    return A\n",
    "    \n",
    "L, N = 1.0, 40                  # length of square, number of intervals\n",
    "node, elm, bp, ip, bv, x, y = mesh(L, N)    # generate mesh \n",
    "ip.sort()                                   # sort ip, just in case \n",
    "A, b = fem_mat(node,elm), np.zeros(len(ip)) # build matrices\n",
    "for j in range(len(ip)):                    \n",
    "    b[j] = np.dot(A[ip[j], bp], bv)         # boundary condition \n",
    "\n",
    "A = np.delete(A, bp, axis=0)    # delete rows specified by bp   \n",
    "A = np.delete(A, bp, axis=1)    # delete cols specified by bp \n",
    "u = solve(A, -b)                # solve \n",
    "\n",
    "u = np.concatenate((u, bv))     # combine internal+boundary values \n",
    "all = np.concatenate((ip, bp))  # internal+boundary nodes\n",
    "idx = np.argsort(all)           # index sort nodes  \n",
    "u = np.take(u, idx)             # now u[n] is the value at node n \n",
    "u = np.reshape(u, (N+1, N+1))   # reshape grid for graphing  \n",
    "x, y = np.meshgrid(x, y)             \n",
    "\n",
    "plt.figure()\n",
    "ax = plt.subplot(111, projection='3d')\n",
    "ax.plot_surface(x, y, u, rstride=1, cstride=1,\n",
    "                linewidth=0, cmap=plt.cm.jet)\n",
    "ax.set_xlabel('x'), ax.set_ylabel('y'), ax.set_zlabel('V')\n",
    "plt.figure()\n",
    "plt.subplot(111, aspect='equal')\n",
    "plt.contour(x, y, u, 26)\n",
    "plt.show()"
   ]
  },
  {
   "cell_type": "code",
   "execution_count": null,
   "metadata": {
    "collapsed": true
   },
   "outputs": [],
   "source": []
  }
 ],
 "metadata": {
  "kernelspec": {
   "display_name": "Python 3",
   "language": "python",
   "name": "python3"
  },
  "language_info": {
   "codemirror_mode": {
    "name": "ipython",
    "version": 3
   },
   "file_extension": ".py",
   "mimetype": "text/x-python",
   "name": "python",
   "nbconvert_exporter": "python",
   "pygments_lexer": "ipython3",
   "version": "3.6.1"
  }
 },
 "nbformat": 4,
 "nbformat_minor": 2
}
