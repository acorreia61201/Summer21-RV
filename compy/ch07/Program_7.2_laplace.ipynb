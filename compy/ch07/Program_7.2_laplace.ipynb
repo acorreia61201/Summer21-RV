{
 "cells": [
  {
   "cell_type": "code",
   "execution_count": null,
   "metadata": {
    "collapsed": false
   },
   "outputs": [],
   "source": [
    "#\n",
    "# Program 7.2: Self-consistent method for parallel plates (laplace.ipynb)\n",
    "# J Wang, Computational modeling and visualization with Python\n",
    "#\n",
    "\n",
    "import matplotlib.pyplot as plt\n",
    "from mpl_toolkits.mplot3d import Axes3D\n",
    "import vpython as vp, numpy as np\n",
    "%matplotlib notebook\n",
    "vec = vp.vector\n",
    "\n",
    "def relax(V, imax=200):         # find self-consistent soln\n",
    "    for i in range(imax):\n",
    "        V[1:-1,1:-1] = ( V[1:-1,:-2] + V[1:-1,2:]       # left, right \n",
    "                       + V[:-2,1:-1] + V[2:,1:-1] )/4   # top, bottom\n",
    "        V = set_boundary(V)     # enforce boundary condition\n",
    "        draw_pot(V), vp.rate(1000)\n",
    "    return V\n",
    "    \n",
    "def set_boundary(V):            # set interior BC values\n",
    "    V[w:2*w, top], V[w:2*w, bot] = 1., -1.  # plates voltage\n",
    "    return V\n",
    "\n",
    "def draw_pot(V):                # refresh potential, slow version\n",
    "    for i in range(M):\n",
    "        for j in range(N):\n",
    "            q = abs(V[i,j])     # graduated color mix\n",
    "            if (V[i,j] >0): grid[N*i + j].color = vp.vector(q, .5*q, .2*q)\n",
    "            else:           grid[N*i + j].color = vp.vector(.2*q, .5*q, q)\n",
    "\n",
    "def draw_efield(V, scale):      # draw electric field\n",
    "    Ex, Ey = np.gradient(-V)\n",
    "    Emag = np.sqrt(Ex*Ex + Ey*Ey)\n",
    "    for i in range(2, M-1, 2):\n",
    "        for j in range(2, N-1, 2):\n",
    "            vp.arrow(pos=s*vec(i,j,0),axis=vec(Ex[i,j], Ey[i,j],0),\n",
    "                     length=scale*Emag[i,j])\n",
    "                    \n",
    "        vp.rate(100)\n",
    "    return Ex, Ey\n",
    "        \n",
    "M, N, s = 61, 61, 10            # M x N = grid dim, s = box size\n",
    "w, d, h = M//3, N//6, N//2      # plates width, separation, half N\n",
    "bot, top = h - d//2, h + d//2   # bottom and top plates\n",
    "scene = vp.canvas(width=M*s, height=N*s*.8, center=s*vec(M//2,N//2,0))\n",
    "grid = [vp.box(pos=s*vec(i,j,0), color=vec(0,0,0),height=s,length=s,shininess=0)\n",
    "               for i in range(M) for j in range(N)] # grid \n",
    "\n",
    "V = np.zeros((M,N))             # initialze V on grid, apply BC\n",
    "V = set_boundary(V)\n",
    "V = relax(V)                    # solve by relaxation\n",
    "\n",
    "Ex, Ey = draw_efield(V, scale = 10*s)\n",
    "V, Ex, Ey = np.transpose(V), np.transpose(Ex), np.transpose(Ey)\n",
    "X, Y = np.meshgrid(range(M), range(N))\n",
    "\n",
    "plt.figure()                    # Fig.1, contour plot\n",
    "plt.contour(V, 14)\n",
    "plt.quiver(X[::2,], Y[::2,], Ex[::2,], Ey[::2,],    # stride 2 in y dir\n",
    "           width=0.004, minshaft=1.5, minlength=0, scale=10.)\n",
    "plt.xlabel('x'), plt.ylabel('y')\n",
    "\n",
    "plt.figure()                    # Fig.2, surface plot\n",
    "ax = plt.subplot(111, projection='3d')      \n",
    "ax.plot_surface(X, Y, V, rstride=1, cstride=1, cmap=plt.cm.jet, lw=0)\n",
    "ax.set_xlabel('x'), ax.set_ylabel('y'), ax.set_zlabel('V')\n",
    "plt.show()\n"
   ]
  },
  {
   "cell_type": "code",
   "execution_count": null,
   "metadata": {
    "collapsed": true
   },
   "outputs": [],
   "source": []
  }
 ],
 "metadata": {
  "kernelspec": {
   "display_name": "Python 2",
   "language": "python",
   "name": "python2"
  },
  "language_info": {
   "codemirror_mode": {
    "name": "ipython",
    "version": 2
   },
   "file_extension": ".py",
   "mimetype": "text/x-python",
   "name": "python",
   "nbconvert_exporter": "python",
   "pygments_lexer": "ipython2",
   "version": "2.7.8"
  }
 },
 "nbformat": 4,
 "nbformat_minor": 1
}
