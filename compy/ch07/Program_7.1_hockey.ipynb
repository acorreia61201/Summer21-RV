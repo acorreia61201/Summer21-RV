{
 "cells": [
  {
   "cell_type": "code",
   "execution_count": null,
   "metadata": {
    "collapsed": false
   },
   "outputs": [],
   "source": [
    "#\n",
    "# Program 7.1: Electric field hockey (hockey.ipynb)\n",
    "# J Wang, Computational modeling and visualization with Python\n",
    "#\n",
    "\n",
    "import vpython as vp, numpy as np, ode\n",
    "import sys\n",
    "vec = vp.vector\n",
    "\n",
    "def hockey(Y, t):               # return eqn of motion\n",
    "    accel = 0.\n",
    "    for i in range(len(loc)):\n",
    "        r = Y[0]-loc[i][0:2]\n",
    "        s=np.sqrt(r[0]**2+r[1]**2)\n",
    "        accel += Q[i]*r/s**3\n",
    "    return [Y[1], q*accel]      # list for non-vectorized solver\n",
    "\n",
    "a, b, w = 1., 0.5, 0.125                  # rink size, goal width\n",
    "q, qcor, qmid, qcen = -1.0, 1.0, -2., 2.  # Qs: puck, cor., mid, cen.\n",
    "Q = [qcor, qmid, qcor, qcor, qmid, qcor, qcen]  # charges, locations\n",
    "loc = [[-a, b, 0], [0, b, 0], [a, b, 0], [a,-b, 0], [0,-b, 0], [-a,-b, 0], [0,0, 0]]\n",
    "\n",
    "scene = vp.canvas(title='Electric hockey', background=vec(.2,.5,1))\n",
    "puck  = vp.sphere(pos=vec(-a,0,0), radius = 0.05, make_trail=True) # trail \n",
    "rink  = vp.curve(pos=loc[:-1]+[loc[0]], radius=0.01)    # closed curve\n",
    "goalL = vp.curve(pos=[(-a,w,0),(-a,-w,0)], color=vec(0,1,0), radius=.02)\n",
    "goalR = vp.curve(pos=[( a,w,0),( a,-w,0)], color=vec(0,1,0), radius=.02)\n",
    "for i in range(len(loc)):       # charges, red if Q>0, blue if Q<0\n",
    "    color = vec(1,0,0) if Q[i]>0 else vec(0,0,1)  \n",
    "    vp.sphere(pos=vec(loc[i][0],loc[i][1],0), radius = 0.05, color=color)\n",
    "\n",
    "if (sys.version_info[0] < 3):\n",
    "    v, theta = input('enter speed, theta; eg, 2.2, 19:')   # try 2.2, 18.5\n",
    "else:\n",
    "    v, theta = eval(input('enter speed, theta; eg, 2.2, 19:'))\n",
    "v, theta = min(4, v), max(1,theta)*np.pi/180.      # check valid input\n",
    "Y = np.array([[-a,0], [v*np.cos(theta), v*np.sin(theta)]])\n",
    "while True:\n",
    "    vp.rate(200)\n",
    "    Y = ode.RK45n(hockey, Y, t=0., h=0.002)\n",
    "    x, y = Y[0][0], Y[0][1]\n",
    "    if (abs(x) > a or abs(y) >b): \n",
    "        txt = 'Goal!' if (x > 0 and abs(y) < w) else 'Miss!'\n",
    "        vp.label(pos=vec(x, y+.2,0), text=txt, box=False)\n",
    "        break\n",
    "    puck.pos = vec(x,y,0)\n"
   ]
  },
  {
   "cell_type": "code",
   "execution_count": null,
   "metadata": {
    "collapsed": true
   },
   "outputs": [],
   "source": []
  }
 ],
 "metadata": {
  "kernelspec": {
   "display_name": "Python 2",
   "language": "python",
   "name": "python2"
  },
  "language_info": {
   "codemirror_mode": {
    "name": "ipython",
    "version": 2
   },
   "file_extension": ".py",
   "mimetype": "text/x-python",
   "name": "python",
   "nbconvert_exporter": "python",
   "pygments_lexer": "ipython2",
   "version": "2.7.8"
  }
 },
 "nbformat": 4,
 "nbformat_minor": 1
}
