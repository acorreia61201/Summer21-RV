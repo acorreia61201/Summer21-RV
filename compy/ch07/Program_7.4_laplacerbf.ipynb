{
 "cells": [
  {
   "cell_type": "code",
   "execution_count": null,
   "metadata": {},
   "outputs": [],
   "source": [
    "#\n",
    "# Program 7.4: Laplace equation by RBF (laplacerbf.ipynb)\n",
    "# J Wang, Computational modeling and visualization with Python\n",
    "#\n",
    "\n",
    "from scipy.linalg import solve\n",
    "import matplotlib.pyplot as plt, numpy as np\n",
    "%matplotlib notebook\n",
    "\n",
    "def initialize(L, R, N=22):         # calc nodes and boundary values\n",
    "    inode, bnode, b = [], [], []    # intnl, bndry nodes, bndry values\n",
    "    x, y = np.linspace(0,L,N+1), np.linspace(0,L,N+1)   # same x,y grids\n",
    "    for j in range(N+1):\n",
    "        for i in range(N+1):\n",
    "            r2 = (x[i]-L/2.)**2 + (y[j]-L/2.)**2\n",
    "            if (i==0 or i==N or j==0 or j==N or r2<=R*R):\n",
    "                bnode.append([x[i], y[j]])          # bndry node \n",
    "                b.append(1. if r2<=R*R else 0.)\n",
    "            else:   \n",
    "                inode.append([x[i], y[j]])\n",
    "    ni, node = len(inode), inode+bnode              # combine nodes \n",
    "    return np.array(node), [0.]*ni+b, ni, len(node)\n",
    "    \n",
    "def phi(i, r):              # Gaussian $\\phi_i$ and $\\nabla^2 \\phi_i$\n",
    "    r2, e2 = (node[i,0]-r[0])**2 + (node[i,1]-r[1])**2, eps*eps\n",
    "    f = np.exp(-e2*r2)\n",
    "    return f, 4*e2*f*(e2*r2-1)    \n",
    "\n",
    "def rbf_mat(ni, nt):        # fills matrix $A_{ij} = \\nabla^2_j \\phi_i$ or $\\phi_{ij}$\n",
    "    A = np.zeros((nt, nt))\n",
    "    for j in range(nt):\n",
    "        f, df = phi(np.arange(nt), node[j])  # vector operation \n",
    "        A[j,:] = df if j < ni else f\n",
    "    return A    \n",
    "\n",
    "def usum(a, x, y):          # calc u at (x,y)\n",
    "    u = 0.\n",
    "    for i in range(len(a)):\n",
    "        u += a[i]*phi(i, [x, y])[0]     # [0]= first return value \n",
    "    return u\n",
    "        \n",
    "L, R, eps = 1.0, 0.25, 20.  # sizes of square, disk; shape parameter\n",
    "\n",
    "node, b, ni, nt = initialize(L, R)      # ni, nt = num. intrnl/tot nodes\n",
    "A = rbf_mat(ni, nt)\n",
    "ai = solve(A, b)            # solve \n",
    "\n",
    "x = np.linspace(0, L, 41)   # same x,y plotting grids\n",
    "x, y = np.meshgrid(x, x)\n",
    "u = usum(ai, x, y)\n",
    "\n",
    "plt.figure()\n",
    "img = plt.imshow(u, cmap=plt.cm.jet)    # plot as image     \n",
    "plt.colorbar(img), plt.axis('off')\n",
    "plt.show()"
   ]
  },
  {
   "cell_type": "code",
   "execution_count": null,
   "metadata": {
    "collapsed": true
   },
   "outputs": [],
   "source": []
  }
 ],
 "metadata": {
  "kernelspec": {
   "display_name": "Python 3",
   "language": "python",
   "name": "python3"
  },
  "language_info": {
   "codemirror_mode": {
    "name": "ipython",
    "version": 3
   },
   "file_extension": ".py",
   "mimetype": "text/x-python",
   "name": "python",
   "nbconvert_exporter": "python",
   "pygments_lexer": "ipython3",
   "version": "3.6.1"
  }
 },
 "nbformat": 4,
 "nbformat_minor": 2
}
