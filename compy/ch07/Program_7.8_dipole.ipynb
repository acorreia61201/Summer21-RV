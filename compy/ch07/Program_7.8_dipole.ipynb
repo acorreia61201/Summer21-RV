{
 "cells": [
  {
   "cell_type": "code",
   "execution_count": null,
   "metadata": {},
   "outputs": [],
   "source": [
    "#\n",
    "# Program 7.8: Angular distribution of dipole radiation (dipole.ipynb)\n",
    "# J Wang, Computational modeling and visualization with Python\n",
    "#\n",
    "\n",
    "import numpy as np\n",
    "import matplotlib.pyplot as plt\n",
    "from mpl_toolkits.mplot3d import Axes3D\n",
    "%matplotlib notebook\n",
    "\n",
    "theta = np.linspace(0, np.pi, 21)\n",
    "phi   = np.linspace(0, 2*np.pi, 41)\n",
    "theta, phi = np.meshgrid(phi, theta)\n",
    "x = np.sin(theta)*np.cos(phi)\n",
    "y = np.sin(theta)*np.sin(phi)\n",
    "z = np.sin(theta)*np.cos(theta)     # z=radial times cos(theta) \n",
    "\n",
    "plt.figure()\n",
    "ax = plt.subplot(111, projection='3d', aspect=.5)\n",
    "ax.plot_surface(x, y, z,  rstride=1, cstride=1, color='w')\n",
    "plt.axis('off')\n",
    "plt.show()"
   ]
  },
  {
   "cell_type": "code",
   "execution_count": null,
   "metadata": {
    "collapsed": true
   },
   "outputs": [],
   "source": []
  }
 ],
 "metadata": {
  "kernelspec": {
   "display_name": "Python 3",
   "language": "python",
   "name": "python3"
  },
  "language_info": {
   "codemirror_mode": {
    "name": "ipython",
    "version": 3
   },
   "file_extension": ".py",
   "mimetype": "text/x-python",
   "name": "python",
   "nbconvert_exporter": "python",
   "pygments_lexer": "ipython3",
   "version": "3.6.1"
  }
 },
 "nbformat": 4,
 "nbformat_minor": 2
}
