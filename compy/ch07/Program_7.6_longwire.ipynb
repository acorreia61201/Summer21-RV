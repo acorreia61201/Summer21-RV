{
 "cells": [
  {
   "cell_type": "code",
   "execution_count": null,
   "metadata": {
    "collapsed": false
   },
   "outputs": [],
   "source": [
    "#\n",
    "# Program 7.6: Magnetic fields of a current-carrying wire (longwire.ipynb)\n",
    "# J Wang, Computational modeling and visualization with Python\n",
    "#\n",
    "\n",
    "import vpython as vp, numpy as np\n",
    "vec = vp.vector\n",
    "\n",
    "m, n = 6, 30                                # r, phi intervals\n",
    "r = np.linspace(0.15, 0.4, m)\n",
    "phi = np.linspace(0., 2*np.pi, n+1)\n",
    "r, phi = np.meshgrid(r, phi)                # n x m grid\n",
    "\n",
    "x, y = r*np.cos(phi), r*np.sin(phi)         # pos and dirs of B-fields\n",
    "ax, ay = -np.sin(phi), np.cos(phi)          # tangential vectors \n",
    "\n",
    "scene = vp.canvas(title='Magnetic fields', background=vec(.2,.5,1))\n",
    "wire = vp.curve(pos=[(0,0,.6), (0,0,-.6)], radius = 0.01)\n",
    "\n",
    "scale, q = 0.008, 1.0\n",
    "for z in np.linspace(.5, -.5, 6):\n",
    "    for i in range(n):\n",
    "        for j in range(m):\n",
    "            vp.arrow(pos=vec(x[i,j], y[i,j], z), axis=vec(ax[i,j], ay[i,j], 0),\n",
    "                     length=scale/r[i,j], color=vec(q, q, 0))\n",
    "    q = q - .05"
   ]
  },
  {
   "cell_type": "code",
   "execution_count": null,
   "metadata": {
    "collapsed": true
   },
   "outputs": [],
   "source": []
  }
 ],
 "metadata": {
  "kernelspec": {
   "display_name": "Python 2",
   "language": "python",
   "name": "python2"
  },
  "language_info": {
   "codemirror_mode": {
    "name": "ipython",
    "version": 2
   },
   "file_extension": ".py",
   "mimetype": "text/x-python",
   "name": "python",
   "nbconvert_exporter": "python",
   "pygments_lexer": "ipython2",
   "version": "2.7.8"
  }
 },
 "nbformat": 4,
 "nbformat_minor": 1
}
