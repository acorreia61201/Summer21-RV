{
 "cells": [
  {
   "cell_type": "code",
   "execution_count": null,
   "metadata": {
    "collapsed": false
   },
   "outputs": [],
   "source": [
    "#\n",
    "# Program 7.9: Plane electromagnetic waves (plane.ipynb)\n",
    "# J Wang, Computational modeling and visualization with Python\n",
    "#\n",
    "\n",
    "import vpython as vp, numpy as np, vpmnb as vpm\n",
    "vec = vp.vector\n",
    "\n",
    "t, dt, v, L = 0.0, 0.02, 0.2, 1.0       # time, speed, wavelength\n",
    "n, scale, E, B = 61, 0.2, [], []        # grid, scale\n",
    "\n",
    "scene=vp.canvas(title='Electromagnetic waves', background=vec(.2,.5,1),\n",
    "                   center=vec(0,0,L), forward=vec(-.4,-.3,-1))\n",
    "ax, ay, az = vec(1,0,0), vec(0,1,0), vec(0,0,1)   # axes and labels\n",
    "vp.arrow(pos=vec(.2, -.2, L), axis=ax, length=0.2, color=vec(1,1,0))\n",
    "vp.arrow(pos=vec(.2, -.2, L), axis=ay, length=0.2, color=vec(0,1,1))\n",
    "vp.arrow(pos=vec(.2, -.2, L), axis=az, length=0.2, color=vec(1,1,1))\n",
    "vp.label(pos=vec(.45, -.2, L), text='E', box=False, height=30)\n",
    "vp.label(pos=vec(.25, -.0, L), text='B', box=False, height=30)\n",
    "vp.label(pos=vec(.2, -.15, L+.3), text='v', box=False, height=30)\n",
    "\n",
    "idx, z = np.arange(n), np.linspace(-L, 2*L, n)  # order of vectors\n",
    "mag = scale*np.sin(2*np.pi*z/L)                 # sine envelope\n",
    "epos=np.column_stack((mag,0*z,z)).tolist()\n",
    "bpos=np.column_stack((0*z,mag,z)).tolist()\n",
    "ewave = vp.curve(color=vec(1,1,0), pos=epos)\n",
    "bwave = vp.curve(color=vec(0,1,1), pos=bpos)\n",
    "for i in idx:\n",
    "    E.append( vp.arrow(pos=vec(0, 0, z[i]), axis=ax, length=mag[i],\n",
    "                       color=vec(1,1,0)) )\n",
    "    B.append( vp.arrow(pos=vec(0, 0, z[i]), axis=ay, length=mag[i], \n",
    "                       color=vec(0,1,1)) )\n",
    "while True:\n",
    "    vp.rate(200), vpm.wait(scene)               # hit a key to pause\n",
    "    t, mg = t + dt, mag*np.cos(t)               # sinusoidal wave\n",
    "    for i in range(n):                          \n",
    "        E[i].pos.z += v*dt                      # traveling wave\n",
    "        B[i].pos.z += v*dt\n",
    "        if (E[i].pos.z > 2*L):                  # wrap around\n",
    "            E[i].pos.z, B[i].pos.z = -L, -L \n",
    "            idx = np.insert(idx, 0, i)[:-1]     # move to end \n",
    "            \n",
    "        E[i].axis, B[i].axis = ax, ay           # reset axis to \n",
    "        E[i].length, B[i].length = mg[i], mg[i] #   draw correctly\n",
    "        id = idx[i]\n",
    "        epos[i]=[mg[id], 0., E[id].pos.z]\n",
    "        bpos[i]=[0., mg[id], B[id].pos.z]\n",
    "    ewave.clear(), ewave.append(pos=epos)\n",
    "    bwave.clear(), bwave.append(pos=bpos)"
   ]
  },
  {
   "cell_type": "code",
   "execution_count": null,
   "metadata": {
    "collapsed": true
   },
   "outputs": [],
   "source": []
  }
 ],
 "metadata": {
  "kernelspec": {
   "display_name": "Python 2",
   "language": "python",
   "name": "python2"
  },
  "language_info": {
   "codemirror_mode": {
    "name": "ipython",
    "version": 2
   },
   "file_extension": ".py",
   "mimetype": "text/x-python",
   "name": "python",
   "nbconvert_exporter": "python",
   "pygments_lexer": "ipython2",
   "version": "2.7.8"
  }
 },
 "nbformat": 4,
 "nbformat_minor": 1
}
