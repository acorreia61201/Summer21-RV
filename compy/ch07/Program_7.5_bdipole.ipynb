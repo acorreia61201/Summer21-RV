{
 "cells": [
  {
   "cell_type": "code",
   "execution_count": null,
   "metadata": {
    "collapsed": false
   },
   "outputs": [],
   "source": [
    "#\n",
    "# Program 7.5: Magnetic dipole fields (bdipole.ipynb)\n",
    "# J Wang, Computational modeling and visualization with Python\n",
    "#\n",
    "\n",
    "import vpython as vp, numpy as np\n",
    "import matplotlib.pyplot as plt\n",
    "%matplotlib notebook\n",
    "vec = vp.vector\n",
    "\n",
    "def bdipole(r):                     # calc magnetic fields at $\\vec{r}$\n",
    "    cross = lambda a, b: vp.cross(vec(a[0],a[1],a[2]),vec(b[0],b[1],b[2]))\n",
    "    mag = lambda a:vp.mag(vec(a[0],a[1],a[2]))\n",
    "    r = np.array([r.x, r.y, r.z])\n",
    "    b, rel = vec(0,0,0), r-rs\n",
    "    for i in range(len(ds)):        # sum over segments\n",
    "        b += cross(ds[i], rel[i])/mag(rel[i])**3   # $\\sum Id\\vec{s}\\times \\vec{r}/r^3$\n",
    "    return b\n",
    "    \n",
    "divs, m, n = 36, 21, 16             # circle divisions, space grid\n",
    "phi = np.linspace(0., 2*np.pi, divs+1)[:-1]              # omit last pt\n",
    "rs = np.column_stack((np.cos(phi), np.sin(phi), 0*phi))  # segments \n",
    "ds = np.column_stack((-np.sin(phi), np.cos(phi), 0*phi)) # tangents $d\\vec{s}$\n",
    "x, z = np.linspace(-2, 2, m), np.linspace(-1.5, 1.5, n)\n",
    "x, z = np.meshgrid(x, z)\n",
    "\n",
    "bx, bz, big = np.zeros((n,m)), np.zeros((n,m)), 100.\n",
    "for i in range(n):\n",
    "    for j in range(m):\n",
    "        b = bdipole(vp.vector(x[i,j], 0., z[i,j]))\n",
    "        if (vp.mag(b) < big):               # exclude large fields\n",
    "            bx[i,j], bz[i,j] = b.x, b.z\n",
    "\n",
    "plt.subplot(111, aspect='equal')\n",
    "plt.quiver(x, z, bx, bz, width=0.004, minshaft=1.5, minlength=0)\n",
    "plt.plot([-1],[0], 'bo', [1],[0], 'bx')     # eyes\n",
    "plt.show()"
   ]
  },
  {
   "cell_type": "code",
   "execution_count": null,
   "metadata": {
    "collapsed": true
   },
   "outputs": [],
   "source": []
  }
 ],
 "metadata": {
  "kernelspec": {
   "display_name": "Python 2",
   "language": "python",
   "name": "python2"
  },
  "language_info": {
   "codemirror_mode": {
    "name": "ipython",
    "version": 2
   },
   "file_extension": ".py",
   "mimetype": "text/x-python",
   "name": "python",
   "nbconvert_exporter": "python",
   "pygments_lexer": "ipython2",
   "version": "2.7.8"
  }
 },
 "nbformat": 4,
 "nbformat_minor": 1
}
