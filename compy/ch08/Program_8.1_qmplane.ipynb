{
 "cells": [
  {
   "cell_type": "code",
   "execution_count": null,
   "metadata": {},
   "outputs": [],
   "source": [
    "#\n",
    "# Program 8.1: A quantum plane wave (qmplane.ipynb)\n",
    "# J Wang, Computational modeling and visualization with Python\n",
    "#\n",
    "\n",
    "import matplotlib.pyplot as plt, numpy as np\n",
    "import matplotlib.animation as am\n",
    "%matplotlib notebook\n",
    "\n",
    "def updatefig(*args):                       # args[0] = frame\n",
    "    wf = np.exp(1j*(x-0.1*args[0]))         # traveling plane wave\n",
    "    w = [prob, wf.real, wf.imag]\n",
    "    for i in range(len(w)):\n",
    "        plot[i].set_data(x, w[i])           # update data \n",
    "\n",
    "x = np.linspace(-2*np.pi, 2*np.pi, 101)\n",
    "wf, prob = np.exp(1j*x), [1]*len(x)\n",
    "fig = plt.figure()\n",
    "plot = plt.plot(x,prob, x,wf.real, x,wf.imag)           # plot object \n",
    "ani = am.FuncAnimation(fig, updatefig, interval=10)     # animate \n",
    "plt.ylim(-1.2, 1.2),  plt.show()"
   ]
  },
  {
   "cell_type": "code",
   "execution_count": null,
   "metadata": {
    "collapsed": true
   },
   "outputs": [],
   "source": []
  }
 ],
 "metadata": {
  "kernelspec": {
   "display_name": "Python 3",
   "language": "python",
   "name": "python3"
  },
  "language_info": {
   "codemirror_mode": {
    "name": "ipython",
    "version": 3
   },
   "file_extension": ".py",
   "mimetype": "text/x-python",
   "name": "python",
   "nbconvert_exporter": "python",
   "pygments_lexer": "ipython3",
   "version": "3.6.1"
  }
 },
 "nbformat": 4,
 "nbformat_minor": 2
}
