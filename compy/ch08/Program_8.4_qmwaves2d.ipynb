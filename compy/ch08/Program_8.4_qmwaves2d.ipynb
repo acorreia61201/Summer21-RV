{
 "cells": [
  {
   "cell_type": "code",
   "execution_count": null,
   "metadata": {
    "collapsed": false
   },
   "outputs": [],
   "source": [
    "#\n",
    "# Program 8.4: Quantum waves in 2D (qmwaves2d.ipynb)\n",
    "# J Wang, Computational modeling and visualization with Python\n",
    "#\n",
    "\n",
    "import matplotlib.pyplot as plt\n",
    "import numpy as np, vpython as vp, vpmnb as vpm\n",
    "%matplotlib notebook\n",
    "vec = vp.vector\n",
    "\n",
    "def initialize(a=10., N=12, nx=40, ny=40):  # size, max QM num, grid\n",
    "    s, x0, y0 = 1.9, a/2, a/2               # width, center of wavepacket\n",
    "    na, pi = np.arange(1, N+1), np.pi       # QM numbers\n",
    "    En = pi*pi*na**2/(2*a*a)                # all eigenenergies\n",
    "    x, y = np.linspace(0,a,nx), np.linspace(0,a,ny)     # grid\n",
    "    X, Y = np.meshgrid(x, y)\n",
    "    umx, uny = np.zeros((N,ny,nx)), np.zeros((N,ny,nx))\n",
    "    for n in range(N):                      # compute basis functions\n",
    "        umx[n] = np.sqrt(2/a)*np.sin((n+1)*pi*X/a)\n",
    "        uny[n] = np.sqrt(2/a)*np.sin((n+1)*pi*Y/a)\n",
    "    amn0 = expansion(a, na, s, x0, y0)      # expansion coeff.\n",
    "    return a, N, En, amn0, X, Y, umx, uny\n",
    "    \n",
    "def expansion(a, n, s, x0, y0):     # calc expansion coefficients\n",
    "    r, q, pi = s/a, n*s/a, np.pi    # warning: 'a/s' must not be integer\n",
    "    cm = np.cos(q*pi/2)*np.sin(n*pi*x0/a)/((1-q)*(1+q))\n",
    "    cn = np.cos(q*pi/2)*np.sin(n*pi*y0/a)/((1-q)*(1+q))\n",
    "    return 16*r*np.outer(cm, cn)/(pi*pi)    # amn(0) \n",
    "\n",
    "def psi(amn0, t):                   # calc wavefunction at time t\n",
    "    wf, phase = 0.0, np.exp(-1j*En*t)\n",
    "    amnt = amn0*np.outer(phase, phase)      # $a_{mn}(t)=a_{mn}(0)e^{-i E_{mn} t}$\n",
    "    for m in range(N):\n",
    "        s = 0.0\n",
    "        for n in range(N): s += amnt[m,n]*uny[n]    # vector operation\n",
    "        wf += s*umx[m]                      # $\\sum a_{mn} u_m(x) u_n(y)$\n",
    "    return wf\n",
    "    \n",
    "t, num, plot = 0., 1, False         # set plot=False to animate forever\n",
    "time = [0.0, 0.5, 0.9, 1.4, 2.0, 3.0, 40, 63.7, 64.2]   # snapshots\n",
    "a, N, En, amn0, X, Y, umx, uny = initialize()\n",
    "    \n",
    "scene = vp.canvas(background=vec(.2,.5,1), center=vec(a/2,a/2,-0.5),\n",
    "                   up=vec(0,0,1), forward=vec(-1,-2,-1))\n",
    "mesh = vpm.mesh(X, Y, 0*X, vp.color.yellow, vp.color.red)\n",
    "info = vp.label(pos=vec(a/4, -.8*a,2), height=20)\n",
    "while True:\n",
    "    wf = psi(amn0, t)\n",
    "    mesh.move(X, Y, wf.real*3)      # show real part, times 3\n",
    "    info.text='%5.2f plot=%r' %(t, plot)\n",
    "    vpm.wait(scene), vp.rate(40)\n",
    "    if (plot):\n",
    "        plt.subplot(3, 3, num)\n",
    "        plt.imshow(np.abs(wf)**2, cmap=plt.cm.jet)  # try contourf()\n",
    "        plt.xticks([],[]), plt.yticks([],[])        # omit ticks \n",
    "        plt.xlabel('t=%s' %(t))\n",
    "        if (num > len(time)-1): break\n",
    "        t, num = time[num], num+1\n",
    "    else:\n",
    "        t = t + 0.05\n",
    "if (plot): plt.show()"
   ]
  },
  {
   "cell_type": "code",
   "execution_count": null,
   "metadata": {
    "collapsed": true
   },
   "outputs": [],
   "source": []
  }
 ],
 "metadata": {
  "kernelspec": {
   "display_name": "Python 2",
   "language": "python",
   "name": "python2"
  },
  "language_info": {
   "codemirror_mode": {
    "name": "ipython",
    "version": 2
   },
   "file_extension": ".py",
   "mimetype": "text/x-python",
   "name": "python",
   "nbconvert_exporter": "python",
   "pygments_lexer": "ipython2",
   "version": "2.7.8"
  }
 },
 "nbformat": 4,
 "nbformat_minor": 1
}
