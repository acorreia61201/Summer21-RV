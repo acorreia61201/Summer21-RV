{
 "cells": [
  {
   "cell_type": "code",
   "execution_count": null,
   "metadata": {
    "collapsed": false
   },
   "outputs": [],
   "source": [
    "#\n",
    "# Program 8.3: Quantum free fall (splitop.ipynb)\n",
    "# J Wang, Computational modeling and visualization with Python\n",
    "#\n",
    "\n",
    "import numpy as np, vpython as vp, vpmnb as vpm\n",
    "from scipy.linalg import solve_banded\n",
    "import matplotlib.pyplot as plt\n",
    "%matplotlib notebook\n",
    "vec = vp.vector\n",
    "\n",
    "def gaussian(s, x0, x):     # normalized Gaussian, s=width, x0=center\n",
    "    c = 1.0/np.sqrt(s*np.sqrt(np.pi))\n",
    "    return c*np.exp(-((x-x0)/s)**2/2)\n",
    "\n",
    "def initialize(a, b, N):        # set parameters\n",
    "    x = np.linspace(a, b, N+1)  # grid points\n",
    "    V = 2*x                     # linear potential\n",
    "    s, x0  = 0.5, 5.0           # width (sigma), center of gaussian\n",
    "    R, I = gaussian(s, x0, x), np.zeros(N+1)    # real, imag w.f.\n",
    "    return x[1]-x[0], x,V,R,I   # grid size, h=x[1]-x[0]\n",
    "    \n",
    "a, b, N = -10., 10., 500        # space range [a,b], num. intervals\n",
    "z, mag = np.zeros(N+1), 6       # zeros, magnifying factor\n",
    "\n",
    "h, x, V, R, I = initialize(a, b, N)                 # initialization\n",
    "scene = vp.canvas(background=vec(1,1,1), ambient=vec(1,1,1))   # set scene\n",
    "bars = vpm.bars(x, z, z, z, h, 0.05, vec(1,0,1))       # wave function\n",
    "#line = vpm.line(x, z, z, vec(1,0,1), 0.02)             \n",
    "pot  = vpm.line(x, V*0.05, z, vec(0,0,0), 0.02)        # potential line\n",
    "\n",
    "t, ic, cycle = 0.0, 0, 10               # t, animation cycle\n",
    "dt, psi = 0.001, R + 1j*I               # initialize dt, complex psi\n",
    "ta, pba = [], []                        # time, prob. arrays\n",
    "A = np.ones((3, N+1), dtype=complex)    # prepare band matrix A, B  \n",
    "A[1,:] = 2*(2j*h*h/dt - 1 - h*h*V)\n",
    "dB = - np.conjugate(A[1,:])             # diagonal of B\n",
    "while(t<=3):\n",
    "    C = dB*psi                          # prepare RHS \n",
    "    C[1:-1] -= (psi[:-2] + psi[2:])    \n",
    "    psi = solve_banded((1,1), A, C)     # band matrix solver \n",
    "    t, ic = t+dt, ic+1\n",
    "    if (ic % cycle == 0):\n",
    "        pb = psi.real**2 + psi.imag**2  # probability   \n",
    "        ta.append(t), pba.append(pb)    # store data\n",
    "        #line.move(x, mag*pb, z)        # line drawing can be slow\n",
    "        bars.move(x, z, z, mag*pb)\n",
    "    vp.rate(1200), vpm.wait(scene)\n",
    "line = vpm.line(x, mag*pb, z, vec(1,0,1), 0.02)\n",
    "\n",
    "(X, Y), ta = np.meshgrid(x, ta), np.array(ta)\n",
    "plt.figure()\n",
    "plt.contour(Y, X, pba, 36, linewidths=1)\n",
    "plt.plot(ta, 5 - ta*ta, 'r--')          # classical free fall\n",
    "plt.xlabel('t (a.u.)'), plt.ylabel('x (a.u.)')\n",
    "plt.show()"
   ]
  },
  {
   "cell_type": "code",
   "execution_count": null,
   "metadata": {
    "collapsed": true
   },
   "outputs": [],
   "source": []
  }
 ],
 "metadata": {
  "kernelspec": {
   "display_name": "Python 2",
   "language": "python",
   "name": "python2"
  },
  "language_info": {
   "codemirror_mode": {
    "name": "ipython",
    "version": 2
   },
   "file_extension": ".py",
   "mimetype": "text/x-python",
   "name": "python",
   "nbconvert_exporter": "python",
   "pygments_lexer": "ipython2",
   "version": "2.7.8"
  }
 },
 "nbformat": 4,
 "nbformat_minor": 1
}
