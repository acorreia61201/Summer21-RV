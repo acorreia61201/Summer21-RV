{
 "cells": [
  {
   "cell_type": "code",
   "execution_count": null,
   "metadata": {
    "collapsed": false
   },
   "outputs": [],
   "source": [
    "#\n",
    "# Program 8.2: Space discretized leapfrog method (sdlf.ipynb)\n",
    "# J Wang, Computational modeling and visualization with Python\n",
    "#\n",
    "\n",
    "import numpy as np, vpython as vp, ode, vpmnb as vpm\n",
    "vec = vp.vector\n",
    "\n",
    "def sch_eqn(id, R, I, t):               # return dR/dt, dI/dt of Sch. eqn.\n",
    "    b = 0.5/(h*h)   \n",
    "    if (id == 0):                       # gen. velocity\n",
    "        tmp = -b*I                      # 1st/3rd term in \n",
    "        dydt = (2*b + V)*I              # 2nd term\n",
    "    else:                               # gen. acceleration\n",
    "        tmp = b*R                       # 1st/3rd term in \n",
    "        dydt = (-2*b - V)*R             # 2nd term\n",
    "        \n",
    "    dydt[1:-1] += tmp[:-2] + tmp[2:]    # add $b \\psi_{j-1}, b \\psi_{j+1}$ to grid $j$\n",
    "    dydt[0]  += tmp[-1] + tmp[1]        # 1st point, periodic BC \n",
    "    dydt[-1] += tmp[-2] + tmp[0]        # last point\n",
    "    return dydt\n",
    "\n",
    "def gaussian(s, x0, x):     # normalized Gaussian, s=width, x0=center\n",
    "    c = 1.0/np.sqrt(s*np.sqrt(np.pi))\n",
    "    return c*np.exp(-((x-x0)/s)**2/2)\n",
    "\n",
    "def initialize(a, b, N):        # set parameters\n",
    "    x = np.linspace(a, b, N+1)  # grid points\n",
    "    V = 0.5*x*x                 # SHO potential\n",
    "    s, x0  = 0.5, -5.0          # width (sigma), center of gaussian\n",
    "    R, I = gaussian(s, x0, x), np.zeros(N+1)    # real, imag w.f.\n",
    "    return x[1]-x[0], x,V,R,I   # grid size, h=x[1]-x[0]\n",
    "    \n",
    "a, b, N = -10., 10., 500        # space range [a,b], num. intervals\n",
    "z, mag = np.zeros(N+1), 4       # zeros, magnifying factor\n",
    "\n",
    "h, x, V, R, I = initialize(a, b, N)                 # initialization\n",
    "scene = vp.canvas(background=vec(1,1,1), ambient=vec(1,1,1))   # set scene\n",
    "bars = vpm.bars(x, z, z, z, h, 0.05, vec(1,0,1))       # wave function\n",
    "#line = vpm.line(x, z, z, vec(1,0,1), 0.02)             \n",
    "pot  = vpm.line(x, V*0.1, z, vec(0,0,0), 0.02)         # potential line\n",
    "\n",
    "t, ic, cycle = 0.0, 0, 20       # t, animation cycle\n",
    "dt = h*h*0.5                    # time step, dt < h*h\n",
    "while True:\n",
    "    R, I = ode.leapfrog(sch_eqn, R, I, t, dt)   # main work\n",
    "    ic += 1\n",
    "    if (ic % cycle == 0):       # animate\n",
    "        pb = R*R + I*I          # probability\n",
    "        #line.move(x, mag*pb, z)  # line drawing can be slow\n",
    "        bars.move(x, z, z, mag*pb)\n",
    "    vp.rate(3000), vpm.wait(scene)\n"
   ]
  },
  {
   "cell_type": "code",
   "execution_count": null,
   "metadata": {
    "collapsed": true
   },
   "outputs": [],
   "source": []
  }
 ],
 "metadata": {
  "kernelspec": {
   "display_name": "Python 2",
   "language": "python",
   "name": "python2"
  },
  "language_info": {
   "codemirror_mode": {
    "name": "ipython",
    "version": 2
   },
   "file_extension": ".py",
   "mimetype": "text/x-python",
   "name": "python",
   "nbconvert_exporter": "python",
   "pygments_lexer": "ipython2",
   "version": "2.7.8"
  }
 },
 "nbformat": 4,
 "nbformat_minor": 1
}
