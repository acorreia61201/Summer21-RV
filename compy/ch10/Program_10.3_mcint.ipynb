{
 "cells": [
  {
   "cell_type": "code",
   "execution_count": null,
   "metadata": {},
   "outputs": [],
   "source": [
    "#\n",
    "# Program 10.3: Electrostatic energy (mcint.ipynb)\n",
    "# J Wang, Computational modeling and visualization with Python\n",
    "#\n",
    "\n",
    "import numpy as np, random as rnd\n",
    "\n",
    "def sample(r):     # return a random point inside a sphere\n",
    "    while True:\n",
    "        x, y, z = rnd.random(), rnd.random(), rnd.random()\n",
    "        x, y, z = r*(x+x-1), r*(y+y-1), r*(z+z-1)   # map to [-r, r]\n",
    "        if (x*x + y*y + z*z <= r*r): break\n",
    "    return x, y, z\n",
    "\n",
    "r1, r2, d = 1.0, 2.0, 4.0           # radii and separation, d>r1+r2\n",
    "\n",
    "f, V, N = 0., (4*np.pi/3.)**2*(r1*r2)**3, 100\n",
    "for i in range(N):\n",
    "    x1, y1, z1 = sample(r1)\n",
    "    x2, y2, z2 = sample(r2)\n",
    "    f += 1./np.sqrt((x1-x2-d)**2+(y1-y2)*(y1-y2)+(z1-z2)*(z1-z2))\n",
    "    \n",
    "print ('MC=', V*f/N, 'exact=', V/d)"
   ]
  },
  {
   "cell_type": "code",
   "execution_count": null,
   "metadata": {
    "collapsed": true
   },
   "outputs": [],
   "source": []
  }
 ],
 "metadata": {
  "kernelspec": {
   "display_name": "Python 3",
   "language": "python",
   "name": "python3"
  },
  "language_info": {
   "codemirror_mode": {
    "name": "ipython",
    "version": 3
   },
   "file_extension": ".py",
   "mimetype": "text/x-python",
   "name": "python",
   "nbconvert_exporter": "python",
   "pygments_lexer": "ipython3",
   "version": "3.6.1"
  }
 },
 "nbformat": 4,
 "nbformat_minor": 2
}
