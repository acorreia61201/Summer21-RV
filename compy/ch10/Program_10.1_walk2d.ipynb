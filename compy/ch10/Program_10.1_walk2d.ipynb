{
 "cells": [
  {
   "cell_type": "code",
   "execution_count": null,
   "metadata": {},
   "outputs": [],
   "source": [
    "#\n",
    "# Program 10.1: Random walk in 2D (walk2d.ipynb)\n",
    "# J Wang, Computational modeling and visualization with Python\n",
    "#\n",
    "\n",
    "import numpy as np, random as rnd\n",
    "import matplotlib.pyplot as plt\n",
    "%matplotlib notebook\n",
    "\n",
    "def walknsteps(n):                          # walk n steps\n",
    "    x, y = np.zeros(n+1), np.zeros(n+1)\n",
    "    for i in range(n):\n",
    "        phi = rnd.random()*2*np.pi          # random in $[0,2\\pi]$\n",
    "        x[i+1] = x[i] + np.cos(phi)\n",
    "        y[i+1] = y[i] + np.sin(phi)\n",
    "    return x, y\n",
    "    \n",
    "nstep, N = 20, 4                            # steps, num of walkers\n",
    "col = ['k', 'r', 'g', 'b', 'c', 'm']        # color codes\n",
    "plt.subplot(111, aspect='equal')\n",
    "for i in range(N):\n",
    "    x, y = walknsteps(nstep)\n",
    "    plt.quiver(x[:-1], y[:-1], x[1:]-x[:-1], y[1:]-y[:-1], scale=1,\n",
    "            scale_units='xy', angles='xy', color=col[i%len(col)])\n",
    "plt.plot([0],[0],'y*', markersize=16)\n",
    "plt.xlabel('$x$'), plt.ylabel('$y$')\n",
    "plt.show()"
   ]
  },
  {
   "cell_type": "code",
   "execution_count": null,
   "metadata": {
    "collapsed": true
   },
   "outputs": [],
   "source": []
  }
 ],
 "metadata": {
  "kernelspec": {
   "display_name": "Python 3",
   "language": "python",
   "name": "python3"
  },
  "language_info": {
   "codemirror_mode": {
    "name": "ipython",
    "version": 3
   },
   "file_extension": ".py",
   "mimetype": "text/x-python",
   "name": "python",
   "nbconvert_exporter": "python",
   "pygments_lexer": "ipython3",
   "version": "3.6.1"
  }
 },
 "nbformat": 4,
 "nbformat_minor": 2
}
