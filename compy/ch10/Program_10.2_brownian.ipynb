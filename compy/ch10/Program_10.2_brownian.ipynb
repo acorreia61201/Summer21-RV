{
 "cells": [
  {
   "cell_type": "code",
   "execution_count": null,
   "metadata": {},
   "outputs": [],
   "source": [
    "#\n",
    "# Program 10.2: Brownian motion (brownian.ipynb)\n",
    "# J Wang, Computational modeling and visualization with Python\n",
    "#\n",
    "\n",
    "import numpy as np, random as rnd\n",
    "import matplotlib.pyplot as plt\n",
    "import matplotlib.animation as am\n",
    "%matplotlib notebook\n",
    "\n",
    "class BrownianMotion:               # Brownian motion class\n",
    "    def __init__(self, N=400, F=0.005, b=0.1, tau=2., h = 0.5):\n",
    "        self.N, self.F, self.b, self.tau, self.h = N, F, b, tau, h\n",
    "        self.r, self.v = np.zeros((N, 2)), np.zeros((N, 2))\n",
    "        self.t = -np.log(np.random.rand(N))*tau     # initial kick times\n",
    "\n",
    "    def move(self, r, v, dt):       # move between kicks\n",
    "        edt = np.exp(-self.b*dt)\n",
    "        return r + v*(1-edt)/self.b, v*edt\n",
    "\n",
    "    def iterate(self):              # advance one step\n",
    "        r, v, t, h, F = self.r, self.v, self.t, self.h, self.F  # alias\n",
    "        for i in range(self.N):\n",
    "            if t[i] > h:            # no kick within current step\n",
    "                dt = h              # dt= time to end of step\n",
    "            else:                   # suffers kicks before end of step\n",
    "                tot, dt = 0., t[i]  # tot=time to last kick\n",
    "                while t[i] <= h:\n",
    "                    r[i], v[i] = self.move(r[i], v[i], dt)\n",
    "                    phi = rnd.random()*2*np.pi              # apply kick\n",
    "                    v[i] += [F*np.cos(phi), F*np.sin(phi)] \n",
    "                    tot += dt\n",
    "                    dt = -np.log(rnd.random())*self.tau     # sample dt\n",
    "                    t[i] += dt      # next kick\n",
    "                dt = h - tot        # dt= to end of current step\n",
    "            r[i], v[i] = self.move(r[i], v[i], dt)  # no kick, just move\n",
    "            t[i] -= h\n",
    " \n",
    "def updatefig(*args):                       # update figure data\n",
    "    bm.iterate()\n",
    "    plot.set_data(bm.r[:,0], bm.r[:,1])     # update data\n",
    "    return [plot]                           # return plot object\n",
    " \n",
    "bm = BrownianMotion()                       # create Brownian model\n",
    "fig = plt.figure()\n",
    "plt.subplot(111, aspect='equal')\n",
    "plot = plt.plot(bm.r[:,0], bm.r[:,1], 'o')[0]     # create plot object\n",
    "ani = am.FuncAnimation(fig, updatefig, interval=10, blit=True) # animate \n",
    "plt.xlim(-1., 1.), plt.ylim(-1., 1.), plt.show()"
   ]
  },
  {
   "cell_type": "code",
   "execution_count": null,
   "metadata": {
    "collapsed": true
   },
   "outputs": [],
   "source": []
  }
 ],
 "metadata": {
  "kernelspec": {
   "display_name": "Python 3",
   "language": "python",
   "name": "python3"
  },
  "language_info": {
   "codemirror_mode": {
    "name": "ipython",
    "version": 3
   },
   "file_extension": ".py",
   "mimetype": "text/x-python",
   "name": "python",
   "nbconvert_exporter": "python",
   "pygments_lexer": "ipython3",
   "version": "3.6.1"
  }
 },
 "nbformat": 4,
 "nbformat_minor": 2
}
