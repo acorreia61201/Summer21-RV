{
 "cells": [
  {
   "cell_type": "code",
   "execution_count": null,
   "metadata": {},
   "outputs": [],
   "source": [
    "#\n",
    "# Program 6.3: String under external forces (stringfdm.ipynb)\n",
    "# J Wang, Computational modeling and visualization with Python\n",
    "#\n",
    "\n",
    "from scipy.linalg import solve       # SciPy linear eqn solver\n",
    "import numpy as np, matplotlib.pyplot as plt\n",
    "%matplotlib notebook\n",
    "\n",
    "N, u0, uN= 20, 0., 0.           # number of intervals, boundary values\n",
    "x = np.linspace(0., 1., N+1)    # grid\n",
    "h, T, f = x[1]-x[0], 1.0, -1.0  # bin size, tension, load\n",
    "\n",
    "A = np.diag([-2.]*(N-1))        # diagonal \n",
    "A += np.diag([1.]*(N-2),1) + np.diag([1.]*(N-2),-1) # off diagonals\n",
    "    \n",
    "B = np.array([-h*h*f/T]*(N-1))          # B matrix\n",
    "B[0], B[-1] = B[0]-u0, B[-1]-uN         # boundary values, just in case\n",
    "\n",
    "u = solve(A, B)                         # solve     \n",
    "u = np.insert(u, [0, N-1], [u0, uN])    # insert BV at 1st and last pos \n",
    "\n",
    "plt.plot(x, u, label='$f=-1$'),  plt.legend(loc='center')   # legend \n",
    "plt.xlabel('$x$'), plt.ylabel('$u$'), plt.show()"
   ]
  },
  {
   "cell_type": "code",
   "execution_count": null,
   "metadata": {
    "collapsed": true
   },
   "outputs": [],
   "source": []
  }
 ],
 "metadata": {
  "kernelspec": {
   "display_name": "Python 3",
   "language": "python",
   "name": "python3"
  },
  "language_info": {
   "codemirror_mode": {
    "name": "ipython",
    "version": 3
   },
   "file_extension": ".py",
   "mimetype": "text/x-python",
   "name": "python",
   "nbconvert_exporter": "python",
   "pygments_lexer": "ipython3",
   "version": "3.6.1"
  }
 },
 "nbformat": 4,
 "nbformat_minor": 2
}
