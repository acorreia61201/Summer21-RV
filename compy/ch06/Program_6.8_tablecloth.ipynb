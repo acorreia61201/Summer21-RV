{
 "cells": [
  {
   "cell_type": "code",
   "execution_count": 2,
   "metadata": {
    "collapsed": false
   },
   "outputs": [
    {
     "data": {
      "text/html": [
       "<div id=\"glowscript\" class=\"glowscript\"></div>"
      ],
      "text/plain": [
       "<IPython.core.display.HTML object>"
      ]
     },
     "metadata": {},
     "output_type": "display_data"
    },
    {
     "data": {
      "application/javascript": [
       "window.__context = { glowscript_container: $(\"#glowscript\").removeAttr(\"id\")}"
      ],
      "text/plain": [
       "<IPython.core.display.Javascript object>"
      ]
     },
     "metadata": {},
     "output_type": "display_data"
    }
   ],
   "source": [
    "#\n",
    "# Program 6.8: A falling tablecloth (tablecloth.ipynb)\n",
    "# J Wang, Computational modeling and visualization with Python\n",
    "#\n",
    "\n",
    "import ode, vpmnb as vpm, numpy as np, vpython as vp\n",
    "vec = vp.vector\n",
    "\n",
    "def force(r):       # force of particle pair, with relative pos r\n",
    "    s = np.sqrt(np.sum(r*r, axis=-1))           # distance \n",
    "    s3 = np.dstack((s, s, s))                   # make (m,n,3) array \n",
    "    return -spring_k*(1.0 - spring_l/s3)*r      # Hooke's law \n",
    "    \n",
    "def cloth(Y, t):    # tablecloth\n",
    "    r, v, f = Y[0], Y[1], np.zeros((N,M,3))\n",
    "    \n",
    "    rtop = r[0:-1, :] - r[1:, :]                # rel pos to top neighbor \n",
    "    rright = r[:, 0:-1] - r[:, 1:]              # rel pos to right neighbor\n",
    "    ftop, fright = force(rtop), force(rright)   # forces from top, right\n",
    "    f[0:-1, :] = ftop                   # force from top \n",
    "    f[:, 0:-1] += fright                # force from right \n",
    "    f[1:, :] -= ftop                    # below, left: use 3rd law \n",
    "    f[:, 1:] -= fright\n",
    "    a = (f - damp*v)/mass + gvec\n",
    "    v[0,0], v[0,-1], v[-1,0], v[-1,-1]=0, 0, 0, 0   # fixed coners \n",
    "    return np.array([v,a])\n",
    "    \n",
    "L, M, N = 2.0, 15, 15                   # size, (M,N) particle array\n",
    "h, mass, damp = 0.01, 0.004, 0.01       # keep damp between [.01,.1]\n",
    "x, y = np.linspace(0,L,M), np.linspace(0,L,N)       # particle grid\n",
    "r, v = np.zeros((N,M,3)), np.zeros((N,M,3))\n",
    "spring_k, spring_l = 50.0, x[1]-x[0]    # spring const., relaxed length\n",
    "r[:,:, 0], r[:,:, 1] = np.meshgrid(x,y)             # initialize pos\n",
    "Y, gvec = np.array([r, v]), np.array([0,0,-9.8])    # [v,a], g vector\n",
    "\n",
    "scene = vp.canvas(title='Tablecloth', background=vec(.2,.5,1), \n",
    "                   up=vec(0,0,1), center=vec(L/2,L/2,-L/4), forward=vec(1,2,-1))\n",
    "vp.points(pos=[(0,0,0),(0,L,0),(L,L,0),(L,0,0)])    # corners\n",
    "x, y, z = r[:,:,0], r[:,:,1], r[:,:,2]                      # mesh points\n",
    "t=0\n",
    "mesh = vpm.mesh(x, y, z, vp.color.red, vp.color.yellow)\n",
    "\n",
    "while (t<6):\n",
    "    vp.rate(100), vpm.wait(scene)       # pause if key pressed\n",
    "    Y,t = ode.RK4(cloth, Y, 0, h), t+h\n",
    "    x, y, z = Y[0,:,:,0], Y[0,:,:,1], Y[0,:,:,2]\n",
    "    mesh.move(x, y, z)\n",
    "net = vpm.net(x, y, z, vp.color.yellow, 0.005)             # mesh net\n",
    "net.move(x, y, z)           # can be slow"
   ]
  },
  {
   "cell_type": "code",
   "execution_count": null,
   "metadata": {
    "collapsed": true
   },
   "outputs": [],
   "source": []
  },
  {
   "cell_type": "code",
   "execution_count": null,
   "metadata": {
    "collapsed": true
   },
   "outputs": [],
   "source": []
  }
 ],
 "metadata": {
  "kernelspec": {
   "display_name": "VPython",
   "language": "python",
   "name": "vpython"
  },
  "language_info": {
   "codemirror_mode": {
    "name": "ipython",
    "version": 2
   },
   "file_extension": ".py",
   "mimetype": "text/x-python",
   "name": "python",
   "nbconvert_exporter": "python",
   "pygments_lexer": "ipython2",
   "version": "2.7.8"
  }
 },
 "nbformat": 4,
 "nbformat_minor": 1
}
