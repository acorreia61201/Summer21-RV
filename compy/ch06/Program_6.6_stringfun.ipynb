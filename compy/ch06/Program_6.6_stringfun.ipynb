{
 "cells": [
  {
   "cell_type": "code",
   "execution_count": null,
   "metadata": {},
   "outputs": [],
   "source": [
    "#\n",
    "# Program 6.6: Standing waves on a string (stringfun.ipynb)\n",
    "# J Wang, Computational modeling and visualization with Python\n",
    "#\n",
    "\n",
    "from scipy.linalg import eigh       # Hermitian eigenvalue solver\n",
    "import numpy as np, matplotlib.pyplot as plt\n",
    "%matplotlib notebook\n",
    "\n",
    "N = 20                      # number of intervals\n",
    "h, s = 1./N, 5              # bin size, skip\n",
    "\n",
    "A = np.diag([-2.]*(N-1))                            # diagonal\n",
    "A += np.diag([1.]*(N-2),1) + np.diag([1.]*(N-2),-1) # off diagonals\n",
    "\n",
    "A = -A/(h*h)                # solve $-h^{-2} A X = k^2 X$\n",
    "lamb, u = eigh(A)           # so eigenvalues lamb = k^2\n",
    "\n",
    "x, sty = np.linspace(0.,1., s*N + 1), ['o','^','s','v']\n",
    "fig, f, pi = plt.figure(), np.sin, np.pi          # some aliases\n",
    "print (2*pi/np.sqrt(lamb[:len(sty)]))             # wavelength \n",
    "\n",
    "for i in range(1, len(sty)+1):\n",
    "    ui = np.insert(u[:,i-1], [0, N-1], [0., 0.])  # insert BV\n",
    "    plt.plot(x, f(i*pi*x)*ui[1]/f(i*pi*x[s]))     # normalize soln\n",
    "    plt.plot(x[::s], ui, sty[i-1], label=repr(i))\n",
    "    \n",
    "plt.xlabel('$x$'), plt.ylabel('$u$')\n",
    "plt.legend(loc='lower right'), plt.show()"
   ]
  },
  {
   "cell_type": "code",
   "execution_count": null,
   "metadata": {
    "collapsed": true
   },
   "outputs": [],
   "source": []
  }
 ],
 "metadata": {
  "kernelspec": {
   "display_name": "Python 3",
   "language": "python",
   "name": "python3"
  },
  "language_info": {
   "codemirror_mode": {
    "name": "ipython",
    "version": 3
   },
   "file_extension": ".py",
   "mimetype": "text/x-python",
   "name": "python",
   "nbconvert_exporter": "python",
   "pygments_lexer": "ipython3",
   "version": "3.6.1"
  }
 },
 "nbformat": 4,
 "nbformat_minor": 2
}
