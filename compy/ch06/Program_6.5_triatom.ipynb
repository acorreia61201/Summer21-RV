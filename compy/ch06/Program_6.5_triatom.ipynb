{
 "cells": [
  {
   "cell_type": "code",
   "execution_count": null,
   "metadata": {
    "collapsed": false
   },
   "outputs": [
    {
     "data": {
      "application/javascript": [
       "require.undef(\"nbextensions/vpython_libraries/jquery-ui.custom.min\");"
      ],
      "text/plain": [
       "<IPython.core.display.Javascript object>"
      ]
     },
     "metadata": {},
     "output_type": "display_data"
    },
    {
     "data": {
      "application/javascript": [
       "require.undef(\"nbextensions/vpython_libraries/glow.2.1.min\");"
      ],
      "text/plain": [
       "<IPython.core.display.Javascript object>"
      ]
     },
     "metadata": {},
     "output_type": "display_data"
    },
    {
     "data": {
      "application/javascript": [
       "require.undef(\"nbextensions/vpython_libraries/glowcomm\");"
      ],
      "text/plain": [
       "<IPython.core.display.Javascript object>"
      ]
     },
     "metadata": {},
     "output_type": "display_data"
    },
    {
     "data": {
      "application/javascript": [
       "require([\"nbextensions/vpython_libraries/jquery-ui.custom.min\"], function(){console.log(\"JQUERY LOADED\");})"
      ],
      "text/plain": [
       "<IPython.core.display.Javascript object>"
      ]
     },
     "metadata": {},
     "output_type": "display_data"
    },
    {
     "data": {
      "application/javascript": [
       "require([\"nbextensions/vpython_libraries/glow.2.1.min\"], function(){console.log(\"GLOW LOADED\");})"
      ],
      "text/plain": [
       "<IPython.core.display.Javascript object>"
      ]
     },
     "metadata": {},
     "output_type": "display_data"
    },
    {
     "data": {
      "application/javascript": [
       "require([\"nbextensions/vpython_libraries/glowcomm\"], function(){console.log(\"GLOWCOMM LOADED\");})"
      ],
      "text/plain": [
       "<IPython.core.display.Javascript object>"
      ]
     },
     "metadata": {},
     "output_type": "display_data"
    },
    {
     "data": {
      "text/html": [
       "<div id=\"glowscript\" class=\"glowscript\"></div>"
      ],
      "text/plain": [
       "<IPython.core.display.HTML object>"
      ]
     },
     "metadata": {},
     "output_type": "display_data"
    },
    {
     "data": {
      "application/javascript": [
       "window.__context = { glowscript_container: $(\"#glowscript\").removeAttr(\"id\")}"
      ],
      "text/plain": [
       "<IPython.core.display.Javascript object>"
      ]
     },
     "metadata": {},
     "output_type": "display_data"
    }
   ],
   "source": [
    "#\n",
    "# Program 6.5: Triatomic vibrations (triatom.ipynb)\n",
    "# J Wang, Computational modeling and visualization with Python\n",
    "#\n",
    "\n",
    "import vpython as vp, numpy as np\n",
    "vec = vp.vector\n",
    "\n",
    "def accel(u):\n",
    "    return -k*np.array([u[0]-u[1], 2*u[1]-u[0]-u[2], u[2]-u[1]])/m\n",
    "\n",
    "col = [vec(1,0,0), vec(0,1,0), vec(0,0,1)]           # RGB colors\n",
    "x0, atom, r = np.array([-3., 0., 3.]), [0]*3, 1.0\n",
    "for i in range(3):\n",
    "    atom[i] = vp.sphere(pos=vec(x0[i],0,0), radius=r, color=col[i]) # atoms\n",
    "floor = vp.box(pos=vec(0,-1.1,0), length=8, height=0.2, width=4)    # floor \n",
    "s1 = vp.helix(pos=vec(x0[0],0,0), thickness=0.1, radius=0.5)        # spring\n",
    "s2 = vp.helix(pos=vec(x0[1],0,0), thickness=0.1, radius=0.5)\n",
    "\n",
    "h, k, m = 0.1, 1.0, np.array([1./4, 2./5, 1./4])\n",
    "u, v = np.array([-1.,0.,1.]), np.zeros(3)   # symmetric init cond\n",
    "while True:\n",
    "    vp.rate(50)\n",
    "    u = u + v*h                             # Euler-Cromer method\n",
    "    v = v + accel(u)*h\n",
    "    x = x0 + u\n",
    "    for i in range(3):                      # animation\n",
    "        atom[i].pos = vp.vector(x[i],0,0)\n",
    "    s1.axis, s1.pos.x, s1.length= vec(1,0,0), x[0]+r, x[1]-x[0]-2*r   # move \n",
    "    s2.axis, s2.pos.x, s2.length= vec(1,0,0), x[1]+r, x[2]-x[1]-2*r"
   ]
  },
  {
   "cell_type": "code",
   "execution_count": null,
   "metadata": {
    "collapsed": true
   },
   "outputs": [],
   "source": []
  }
 ],
 "metadata": {
  "kernelspec": {
   "display_name": "VPython",
   "language": "python",
   "name": "vpython"
  },
  "language_info": {
   "codemirror_mode": {
    "name": "ipython",
    "version": 2
   },
   "file_extension": ".py",
   "mimetype": "text/x-python",
   "name": "python",
   "nbconvert_exporter": "python",
   "pygments_lexer": "ipython2",
   "version": "2.7.8"
  }
 },
 "nbformat": 4,
 "nbformat_minor": 1
}
