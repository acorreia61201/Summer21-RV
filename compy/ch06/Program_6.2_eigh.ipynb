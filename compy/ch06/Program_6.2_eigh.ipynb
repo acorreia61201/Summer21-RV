{
 "cells": [
  {
   "cell_type": "code",
   "execution_count": null,
   "metadata": {},
   "outputs": [],
   "source": [
    "#\n",
    "# Program 6.2: Diagonalization of triatomic systems (eigh.ipynb)\n",
    "# J Wang, Computational modeling and visualization with Python\n",
    "#\n",
    "\n",
    "import numpy as np\n",
    "from scipy.linalg import eigh       # Hermitian eigenvalue solver\n",
    "\n",
    "k = 1.0\n",
    "m1, m2, m3 = 1./4., 2./5., 1./4.\n",
    "A = np.array([[k, -k, 0], [-k, 2*k, -k], [0, -k, k]])\n",
    "B = np.array([[m1, 0, 0], [0, m2, 0], [0, 0, m3]])\n",
    "\n",
    "lamb, u = eigh(A, B)        # eigenvalues and eigenvectors  \n",
    "print (np.sqrt(lamb))       # print omega"
   ]
  },
  {
   "cell_type": "code",
   "execution_count": null,
   "metadata": {
    "collapsed": true
   },
   "outputs": [],
   "source": []
  }
 ],
 "metadata": {
  "kernelspec": {
   "display_name": "Python 3",
   "language": "python",
   "name": "python3"
  },
  "language_info": {
   "codemirror_mode": {
    "name": "ipython",
    "version": 3
   },
   "file_extension": ".py",
   "mimetype": "text/x-python",
   "name": "python",
   "nbconvert_exporter": "python",
   "pygments_lexer": "ipython3",
   "version": "3.6.1"
  }
 },
 "nbformat": 4,
 "nbformat_minor": 2
}
