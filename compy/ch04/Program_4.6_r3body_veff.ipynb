{
 "cells": [
  {
   "cell_type": "code",
   "execution_count": null,
   "metadata": {},
   "outputs": [],
   "source": [
    "#\n",
    "# Program 4.6: Plotting the effective potential (r3body_veff.ipynb)\n",
    "# J Wang, Computational modeling and visualization with Python\n",
    "#\n",
    "\n",
    "import numpy as np                  # get numpy functions\n",
    "import matplotlib.pyplot as plt     # get matplotlib plot functions\n",
    "from mpl_toolkits.mplot3d import Axes3D     # for surface plots\n",
    "%matplotlib notebook\n",
    "\n",
    "def potential(x, y):    # returns effective potential, without 4pi^2 \n",
    "    r1 = np.sqrt((x+a)*(x+a)+y*y)   # use np.sqrt for array operations \n",
    "    r2 = np.sqrt((x-b)*(x-b)+y*y)\n",
    "    V = -(1.0-a)/r1 - a/r2 - 0.5*(x*x+y*y)\n",
    "    return np.maximum(V, -4.0)      # low cutoff value \n",
    "\n",
    "def makeplot(): \n",
    "    n, s = 201, 5                       # grid points and stride\n",
    "    x = np.linspace(-1.5, 1.5, n)       # same x,y grids\n",
    "    x, y = np.meshgrid(x, x)            # make meshgrid, ie, 1D -> 2D \n",
    "    \n",
    "    V = potential(x, y)                 # compute V, -grad(V)   \n",
    "    Fy, Fx = np.gradient(-V)            # swap Fx, Fy since V[i,j]=V[x,y] \n",
    "    big = Fx*Fx + Fy*Fy > 0.003         # truth array for A[i,j] >.003 \n",
    "    Fx[big], Fy[big] = 0, 0             # cut off large values \n",
    "    \n",
    "    fig = plt.figure()   # add surface plot with strides and color map \n",
    "    axis=fig.add_subplot(111, projection='3d')  # add subplot\n",
    "    axis.plot_surface(x, y, V, rstride=3, cstride=3,\n",
    "                      linewidth=0, cmap=plt.cm.spectral)\n",
    "    axis.set_xlabel('x'), axis.set_ylabel('y'), axis.set_zlabel('V')\n",
    "    \n",
    "    plt.figure()                            # draw contours and arrows \n",
    "    plt.subplot(111, aspect='equal')        # square picture\n",
    "    plt.contour(x, y, V, 26)                # 26 contour lines\n",
    "    plt.xticks([],[]), plt.yticks([],[])    # omit ticks\n",
    "    \n",
    "    # draw arrows on strided grid to space them out, via array slicing\n",
    "    plt.quiver(x[::s,::s], y[::s,::s], Fx[::s,::s], Fy[::s,::s],\n",
    "               width=0.005, minshaft=2, minlength=0)     # arrow shape \n",
    "    txt = ['$L_1$', '$L_2$', '$L_3$', '$L_4$', '$L_5$']  # Lag. pts label \n",
    "    loc = [(-1.1,-.07),(.5,-.07),(1.2,-.07),(.3,.8),(.3,-1)] # label pos\n",
    "    for i in range(len(txt)):\n",
    "        plt.text(loc[i][0], loc[i][1], txt[i], fontsize=16)\n",
    "\n",
    "    plt.show()\n",
    "\n",
    "alpha = 0.121           # globals\n",
    "a, b = alpha, 1.0-alpha\n",
    "makeplot()"
   ]
  },
  {
   "cell_type": "code",
   "execution_count": null,
   "metadata": {
    "collapsed": true
   },
   "outputs": [],
   "source": []
  }
 ],
 "metadata": {
  "kernelspec": {
   "display_name": "Python 3",
   "language": "python",
   "name": "python3"
  },
  "language_info": {
   "codemirror_mode": {
    "name": "ipython",
    "version": 3
   },
   "file_extension": ".py",
   "mimetype": "text/x-python",
   "name": "python",
   "nbconvert_exporter": "python",
   "pygments_lexer": "ipython3",
   "version": "3.6.1"
  }
 },
 "nbformat": 4,
 "nbformat_minor": 2
}
