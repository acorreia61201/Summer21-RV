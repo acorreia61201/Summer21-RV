{
 "cells": [
  {
   "cell_type": "code",
   "execution_count": null,
   "metadata": {},
   "outputs": [
    {
     "data": {
      "application/javascript": [
       "require.undef(\"nbextensions/vpython_libraries/glow.min\");"
      ],
      "text/plain": [
       "<IPython.core.display.Javascript object>"
      ]
     },
     "metadata": {},
     "output_type": "display_data"
    },
    {
     "data": {
      "application/javascript": [
       "require.undef(\"nbextensions/vpython_libraries/glowcomm\");"
      ],
      "text/plain": [
       "<IPython.core.display.Javascript object>"
      ]
     },
     "metadata": {},
     "output_type": "display_data"
    },
    {
     "data": {
      "application/javascript": [
       "require.undef(\"nbextensions/vpython_libraries/jquery-ui.custom.min\");"
      ],
      "text/plain": [
       "<IPython.core.display.Javascript object>"
      ]
     },
     "metadata": {},
     "output_type": "display_data"
    },
    {
     "data": {
      "application/javascript": [
       "require([\"nbextensions/vpython_libraries/glow.min\"], function(){console.log(\"GLOW LOADED\");})"
      ],
      "text/plain": [
       "<IPython.core.display.Javascript object>"
      ]
     },
     "metadata": {},
     "output_type": "display_data"
    },
    {
     "data": {
      "application/javascript": [
       "require([\"nbextensions/vpython_libraries/glowcomm\"], function(){console.log(\"GLOWCOMM LOADED\");})"
      ],
      "text/plain": [
       "<IPython.core.display.Javascript object>"
      ]
     },
     "metadata": {},
     "output_type": "display_data"
    },
    {
     "data": {
      "application/javascript": [
       "require([\"nbextensions/vpython_libraries/jquery-ui.custom.min\"], function(){console.log(\"JQUERY LOADED\");})"
      ],
      "text/plain": [
       "<IPython.core.display.Javascript object>"
      ]
     },
     "metadata": {},
     "output_type": "display_data"
    },
    {
     "data": {
      "text/html": [
       "<div id=\"glowscript\" class=\"glowscript\"></div>"
      ],
      "text/plain": [
       "<IPython.core.display.HTML object>"
      ]
     },
     "metadata": {},
     "output_type": "display_data"
    },
    {
     "data": {
      "application/javascript": [
       "window.__context = { glowscript_container: $(\"#glowscript\").removeAttr(\"id\")}"
      ],
      "text/plain": [
       "<IPython.core.display.Javascript object>"
      ]
     },
     "metadata": {},
     "output_type": "display_data"
    },
    {
     "name": "stdout",
     "output_type": "stream",
     "text": [
      "Please enter lambda, eg: 0.01, or 1.1E-8 :> 0.01\n"
     ]
    },
    {
     "data": {
      "text/html": [
       "<div id=\"glowscript\" class=\"glowscript\"></div>"
      ],
      "text/plain": [
       "<IPython.core.display.HTML object>"
      ]
     },
     "metadata": {},
     "output_type": "display_data"
    },
    {
     "data": {
      "application/javascript": [
       "window.__context = { glowscript_container: $(\"#glowscript\").removeAttr(\"id\")}"
      ],
      "text/plain": [
       "<IPython.core.display.Javascript object>"
      ]
     },
     "metadata": {},
     "output_type": "display_data"
    }
   ],
   "source": [
    "#\n",
    "# Program 4.3: Precession of Mercury (mercury.ipynb)\n",
    "# J Wang, Computational modeling and visualization with Python\n",
    "#\n",
    "\n",
    "import numpy as np \n",
    "from compy import ode           # get ODE solvers, numpy\n",
    "import vpython as vp            # get VPython modules for animation\n",
    "import matplotlib.pyplot as plt # get matplotlib plot functions\n",
    "import sys\n",
    "%matplotlib notebook\n",
    "vec=vp.vector\n",
    "\n",
    "def mercury(id, r, v, t):       # eqns of motion for mercury\n",
    "    if (id == 0): return v      # velocity, dr/dt\n",
    "    s = vp.mag(vec(r[0],r[1],r[2]))\n",
    "    return -GM*r*(1.0 + lamb/(s*s))/(s*s*s)     # acceleration, dv/dt\n",
    "\n",
    "def set_scene(r):     # r = init position of planet\n",
    "    # draw scene, mercury, sun, info box, Runge-Lenz vector\n",
    "    scene = vp.canvas(title='Precession of Mercury', \n",
    "                      \n",
    "                       center=vec(.1*0,0,0), background=vec(.2,.5,1))\n",
    "    planet= vp.sphere(pos=r, color=vec(.9,.6,.4), make_trail=True, radius=0.05)\n",
    "    sun   = vp.sphere(pos=vec(0,0,0), color=vp.color.yellow, radius=0.02)\n",
    "    sunlight = vp.local_light(pos=vec(0,0,0), color=vp.color.yellow)\n",
    "    info = vp.label(pos=vec(.3,-.4,0), text='Angle') # angle info\n",
    "    RLvec = vp.arrow(pos=vec(0,0,0), axis=vec(-1,0,0), length = 0.25)\n",
    "    return planet, info, RLvec\n",
    "    \n",
    "def go(animate = True):                     # default: True\n",
    "    r, v = np.array([0.4667, 0.0, 0.]), np.array([0.0, 8.198, 0.]) # init r, v\n",
    "    t, h, ta, angle = 0.0, 0.002, [], []\n",
    "    rvec=vec(r[0],r[1],r[2])\n",
    "    w = 1.0/vp.mag(rvec)                       # $W_0=\\Omega(r)$\n",
    "    \n",
    "    if (animate): planet, info, RLvec = set_scene(rvec)\n",
    "    while t<100:                            # run for 100 years\n",
    "        rvec=vec(r[0],r[1],r[2])\n",
    "        vvec=vec(v[0],v[1],v[2])\n",
    "        L = vp.cross(rvec, vvec)            # $\\vec{L}/m=\\vec{r}\\times \\vec{v}$\n",
    "        A = vp.cross(vvec, L) - GM*rvec/vp.mag(rvec) # scaled RL vec, \n",
    "        ta.append(t)\n",
    "        angle.append(np.arctan(A.y/A.x)*180*3600/np.pi) # arcseconds\n",
    "        if (animate):    \n",
    "            vp.rate(100)   \n",
    "            planet.pos = rvec                           # move planet\n",
    "            RLvec.axis, RLvec.length = A, .25           # update RL vec\n",
    "            info.text='Angle\": %8.2f' %(angle[-1])      # angle info \n",
    "        r, v, t, w = ode.leapfrog_tt(mercury, r, v, t, w, h)\n",
    "        \n",
    "    plt.figure()        # make plot\n",
    "    plt.plot(ta, angle)\n",
    "    plt.xlabel('Time (year)'), plt.ylabel('Precession (arcsec)')\n",
    "    plt.show()\n",
    "\n",
    "GM = 4*np.pi*np.pi      # G*Msun\n",
    "# lamb=relativistic correction, global, used in 'mercury()'\n",
    "if (sys.version_info[0] < 3):\n",
    "    lamb = input('Please enter lambda, eg: 0.01, or 1.1E-8 :> ')\n",
    "else:\n",
    "    lamb = eval(input('Please enter lambda, eg: 0.01, or 1.1E-8 :> '))\n",
    "go(animate = True)      # set to False to speed up calc. for plots"
   ]
  },
  {
   "cell_type": "code",
   "execution_count": null,
   "metadata": {
    "collapsed": true
   },
   "outputs": [],
   "source": []
  }
 ],
 "metadata": {
  "kernelspec": {
   "display_name": "VPython",
   "language": "python",
   "name": "vpython"
  },
  "language_info": {
   "codemirror_mode": {
    "name": "ipython",
    "version": 3
   },
   "file_extension": ".py",
   "mimetype": "text/x-python",
   "name": "python",
   "nbconvert_exporter": "python",
   "pygments_lexer": "ipython3",
   "version": "3.6.9"
  }
 },
 "nbformat": 4,
 "nbformat_minor": 1
}
