{
 "cells": [
  {
   "cell_type": "code",
   "execution_count": null,
   "metadata": {
    "collapsed": false
   },
   "outputs": [],
   "source": [
    "#\n",
    "# Program 4.5: Three-body motion (3body.ipynb)\n",
    "# J Wang, Computational modeling and visualization with Python\n",
    "#\n",
    "\n",
    "import ode, rootfinder as rtf       # ode, root solvers\n",
    "import vpython as vp, numpy as np    # VPython, numpy\n",
    "import sys\n",
    "vec=vp.vector\n",
    "mag = lambda x: np.sqrt(x[0]**2+x[1]**2)\n",
    "    \n",
    "def threebody(id, r, v, t):         # Eqns of motion for 3-body\n",
    "    if (id==0): return v            # return velocity array\n",
    "    else:                           # calc acceleration\n",
    "        r12, r13, r23 = r[0]-r[1], r[0]-r[2], r[1]-r[2]\n",
    "        s12, s13, s23 = mag(r12), mag(r13), mag(r23)\n",
    "        a = [-m2*r12/s12**3 - m3*r13/s13**3,        # $\\frac{d\\vec{v}_i}{dt}$, \n",
    "              m1*r12/s12**3 - m3*r23/s23**3,\n",
    "              m1*r13/s13**3 + m2*r23/s23**3]\n",
    "        return np.array(a)          # return accel array\n",
    "    \n",
    "def quintic(x):     # Euler's quintic equation, \n",
    "    return -m1-m2 + x*(-3*m1-2*m2 + x*(-3*m1-m2\n",
    "           + x*(m2+3*m3 + x*(2*m2+3*m3 + x*(m2+m3)))))\n",
    "\n",
    "def dquintic(x):    # derivative\n",
    "    return -3*m1-2*m2 + x*(2*(-3*m1-m2) + x*(3*(m2+3*m3)\n",
    "            + x*(4*(2*m2+3*m3) + x*5*(m2+m3))))\n",
    "    \n",
    "def init_cond(scale):       # collinear initial condition\n",
    "    r, v = np.zeros((3,2)), np.zeros((3,2)) # $y=[\\vec{r}_1,\\vec{r}_2,\\vec{r}_3]$, same for v \n",
    "    x = rtf.newton(quintic, dquintic, 1.,2.e-16)  # solve for $\\lambda$\n",
    "    a = (m2+m3-m1*(1+x+x)/((x*(1+x))**2))**(1./3.)\n",
    "    \n",
    "    r[1,0] = (m1/(x*x)-m3)/(a*a)                # non-zero x only\n",
    "    r[0,0] = r[1,0]-x*a\n",
    "    r[2,0] = -(m1*r[0,0] + m2*r[1,0])/m3        # CoM at 0\n",
    "    v[0,1], v[1,1] = scale*r[0,0], scale*r[1,0] # non-zero Vy only\n",
    "    v[2,1] = -(m1*v[0,1] + m2*v[1,1])/m3        # CoM at rest\n",
    "    return r, v\n",
    "    \n",
    "def set_scene(R, r):        # create bodies, velocity arrows\n",
    "    vp.canvas(title='Three-body motion', background=vec(1,1,1))\n",
    "    body, vel = [], []      # bodies, vel arrows\n",
    "    c = [vec(1,0,0), vec(0,1,0), vec(0,0,1), vec(0,0,0)]    # RGB colors\n",
    "    for i in range(3):\n",
    "        body.append(vp.sphere(pos=vec(r[i,0],r[i,1],0),radius=R,color=c[i],make_trail=1))\n",
    "        vel.append(vp.arrow(pos=body[i].pos,shaftwidth=R/2,color=c[i]))\n",
    "    line, com = vp.curve(color=c[3]), vp.sphere(pos=vec(0,0,0), radius=R/4.)\n",
    "    return body, vel, line\n",
    "        \n",
    "def run_3body(scale):\n",
    "    t, h, ic, cycle, R = 0.0, 0.001, 0, 20, 0.1 # anim cycle, R=obj size\n",
    "    r, v = init_cond(scale)\n",
    "    body, vel, line = set_scene(R, r)     # create objects\n",
    "    while True:\n",
    "        vp.rate(1000)\n",
    "        r, v = ode.leapfrog(threebody, r, v, t, h)\n",
    "        ic = ic + 1\n",
    "        if (ic % cycle == 0):       # animate once per 'cycle'\n",
    "            for i in range(3):      # move bodies, draw vel, path, lines\n",
    "                body[i].pos = vec(r[i,0],r[i,1],0)  # bodies \n",
    "                vel[i].pos, vel[i].axis = body[i].pos, vec(v[i,0],v[i,1],0)\n",
    "                vel[i].length = R*(1+2*vp.mag(vec(v[i,0],v[i,1],0)))    # scale vel vector\n",
    "            line.clear()            # clear old line\n",
    "            line.append(pos=[body[i].pos for i in [0,1,2]])\n",
    "                        \n",
    "m1, m2, m3 = 1., 2., 3.             # masses, global\n",
    "if (sys.version_info[0] < 3):\n",
    "    run_3body(scale = input('enter scale, eg 0.7 :> '))\n",
    "else:\n",
    "    run_3body(scale = eval(input('enter scale, eg 0.7 :> ')))\n"
   ]
  },
  {
   "cell_type": "code",
   "execution_count": null,
   "metadata": {
    "collapsed": true
   },
   "outputs": [],
   "source": []
  }
 ],
 "metadata": {
  "kernelspec": {
   "display_name": "VPython",
   "language": "python",
   "name": "vpython"
  },
  "language_info": {
   "codemirror_mode": {
    "name": "ipython",
    "version": 2
   },
   "file_extension": ".py",
   "mimetype": "text/x-python",
   "name": "python",
   "nbconvert_exporter": "python",
   "pygments_lexer": "ipython2",
   "version": "2.7.8"
  }
 },
 "nbformat": 4,
 "nbformat_minor": 1
}
