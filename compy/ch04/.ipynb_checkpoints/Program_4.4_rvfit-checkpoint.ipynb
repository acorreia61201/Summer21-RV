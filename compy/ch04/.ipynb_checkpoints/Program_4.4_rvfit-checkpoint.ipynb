{
 "cells": [
  {
   "cell_type": "code",
   "execution_count": null,
   "metadata": {},
   "outputs": [],
   "source": [
    "#\n",
    "# Program 4.4: Radial velocity data modeling (rvfit.ipynb)\n",
    "# J Wang, Computational modeling and visualization with Python\n",
    "#\n",
    "\n",
    "import numpy as np                      # get numpy\n",
    "import matplotlib.pyplot as plt         # get plot functions\n",
    "from scipy.optimize import leastsq      # least square fit\n",
    "%matplotlib notebook\n",
    "\n",
    "def rv(V, e, omega, C, theta):      # radial velocity\n",
    "    return -V*(np.cos(omega + theta) - e*np.cos(omega)) + C\n",
    "\n",
    "def nearest(a, b):    # find indices of neareast differences\n",
    "    diff = np.subtract.outer(a, b)      # find diff: a=[], b=[] or scalar \n",
    "    return np.argmin(np.abs(diff), 0)   # nearest index\n",
    "\n",
    "def time_theta(e, tshift, fit=True):    # calc time and theta\n",
    "    psi = np.linspace(0., 2*np.pi, 200) # psi grid\n",
    "    t = (psi+e*np.sin(psi))/(2*np.pi) + tshift      # Kepler eqn\n",
    "    over, under = t>1.0, t<=1.0         # truth arrays\n",
    "    t = np.concatenate((t[over]-1, t[under]))       # wrap around \n",
    "    theta = np.arccos((e+np.cos(psi))/(1+e*np.cos(psi))) # calc theta\n",
    "    theta[psi>np.pi] = 2*np.pi-theta[psi>np.pi]          # remap to [0,2*pi]\n",
    "    theta = np.concatenate((theta[over], theta[under]))  # wrap around\n",
    "    idx = nearest(t, time)              # index of data points\n",
    "    return (t[idx], theta[idx]) if fit else (t, theta)\n",
    "\n",
    "def error(p, v, tshift):        # error function for leastsq\n",
    "    t, theta = time_theta(p[e], tshift)\n",
    "    return  v - rv(p[V], p[e], p[omega], p[C], theta)\n",
    "\n",
    "T, tshift = 62.23, 0.38         # T=period (day), expt. with time shift \n",
    "time, vel, err = [], [], []\n",
    "with open('hd3651.txt', 'r') as file:   # read HD 3651 dataset \n",
    "    for line in file:\n",
    "        if line.strip() and line.strip()[0]!='#':   # not blank/comment\n",
    "            t, v, er = eval(line)       # comma separated fields\n",
    "            time.append(t), vel.append(v), err.append(er)\n",
    "time, vel = np.array(time)/T, np.array(vel)         # scaled time\n",
    "\n",
    "p = [10., 0.5, 1., 1.]      # initial guess: [V, e, omega, C]\n",
    "V, e, omega, C = range(4)   # para labels [0-3] for easy ref\n",
    "p, flag = leastsq(error, p, args=(vel, tshift))     # Go fit \n",
    "\n",
    "t, theta = time_theta(p[e], tshift, 0)      # calc fitted results\n",
    "vfit = rv(p[V], p[e], p[omega], p[C], theta)\n",
    "\n",
    "plt.figure()\n",
    "plt.errorbar(time, vel, err, fmt='o')       # data and fit\n",
    "plt.plot(t, vfit, lw=2)\n",
    "plt.xlabel('$t/T$'), plt.ylabel('Radial velocity (m/s)')\n",
    "plt.text(0.10, -30, 'HD 3651')      \n",
    "plt.ylim(-40, 30),  plt.show()              # set ylim "
   ]
  },
  {
   "cell_type": "code",
   "execution_count": null,
   "metadata": {
    "collapsed": true
   },
   "outputs": [],
   "source": []
  }
 ],
 "metadata": {
  "kernelspec": {
   "display_name": "Python [default]",
   "language": "python",
   "name": "python3"
  },
  "language_info": {
   "codemirror_mode": {
    "name": "ipython",
    "version": 3
   },
   "file_extension": ".py",
   "mimetype": "text/x-python",
   "name": "python",
   "nbconvert_exporter": "python",
   "pygments_lexer": "ipython3",
   "version": "3.6.9"
  }
 },
 "nbformat": 4,
 "nbformat_minor": 2
}
