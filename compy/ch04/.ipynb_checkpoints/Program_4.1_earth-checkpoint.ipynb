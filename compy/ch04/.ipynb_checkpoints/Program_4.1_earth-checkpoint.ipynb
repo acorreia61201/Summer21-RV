{
 "cells": [
  {
   "cell_type": "code",
   "execution_count": null,
   "metadata": {},
   "outputs": [
    {
     "data": {
      "text/html": [
       "<div id=\"glowscript\" class=\"glowscript\"></div>"
      ],
      "text/plain": [
       "<IPython.core.display.HTML object>"
      ]
     },
     "metadata": {},
     "output_type": "display_data"
    },
    {
     "data": {
      "application/javascript": [
       "window.__context = { glowscript_container: $(\"#glowscript\").removeAttr(\"id\")}"
      ],
      "text/plain": [
       "<IPython.core.display.Javascript object>"
      ]
     },
     "metadata": {},
     "output_type": "display_data"
    }
   ],
   "source": [
    "#\n",
    "# Program 4.1: Planetary motion (earth.ipynb)\n",
    "# J Wang, Computational modeling and visualization with Python\n",
    "#\n",
    "\n",
    "import numpy as np\n",
    "from compy import ode #custom module, need compy from https://github.com/com-py/compy\n",
    "import vpython as vp\n",
    "vec=vp.vector #use vpython to define vectors\n",
    "\n",
    "d = 0 # modify power of s; only s**2 and s**3 can produce a closed orbit\n",
    "\n",
    "#compute eqns of motion by leapfrog method\n",
    "def earth(id, r, v, t):            # diffeq to be supplied to ode.leapfrog\n",
    "    if (id == 0): return v         # returns f(r) = dr/dt for id == 0, else returns f(v) = dv/dt\n",
    "    s = vp.mag(vec(r[0],r[1],0))   # s = magnitude of displacement vector r\n",
    "    return -GM*r/(s**(2+d))        # acceleration eqn of motion\n",
    "\n",
    "#animate planetary motion\n",
    "def go():\n",
    "    r = np.array([1.0167, 0.0])     # initial x,y position for earth   \n",
    "    v = np.array([0.0, 6.179])     # initial vx, vy                   \n",
    "    \n",
    "    # draw the scene, planet earth/path, sun/sunlight               \n",
    "    scene = vp.canvas(title='Planetary motion', background=vec(.2,.5,1), forward=vec(0,2,-1)) # set up animation\n",
    "    planet = vp.sphere(pos=vec(r[0],r[1],0), radius=0.1, make_trail=True, up=vec(0,0,1)) # planet w/ trail\n",
    "    sun = vp.sphere(pos=vec(0,0,0), radius=0.2, color=vp.color.yellow) # place sun at center of coordinate space\n",
    "    sunlight = vp.local_light(pos=vec(0,0,0), color=vp.color.yellow) # light source from sun\n",
    "    \n",
    "    t, h = 0.0, 0.001 # t = time, h = timestep\n",
    "    while True:\n",
    "        vp.rate(400) # animation rate, lower rate gives smoother path, higher rate gives faster animation\n",
    "        r, v = ode.leapfrog(earth, r, v, t, h) # use leapfrog method to solve ODEs\n",
    "        planet.pos = vec(r[0],r[1],0) # move planet in animation based on current integration   \n",
    "\n",
    "GM = 4*np.pi*np.pi # constant used in earth()\n",
    "go()\n",
    "       \n"
   ]
  },
  {
   "cell_type": "code",
   "execution_count": null,
   "metadata": {
    "collapsed": true
   },
   "outputs": [],
   "source": []
  }
 ],
 "metadata": {
  "kernelspec": {
   "display_name": "VPython",
   "language": "python",
   "name": "vpython"
  },
  "language_info": {
   "codemirror_mode": {
    "name": "ipython",
    "version": 3
   },
   "file_extension": ".py",
   "mimetype": "text/x-python",
   "name": "python",
   "nbconvert_exporter": "python",
   "pygments_lexer": "ipython3",
   "version": "3.6.9"
  }
 },
 "nbformat": 4,
 "nbformat_minor": 1
}
