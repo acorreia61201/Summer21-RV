{
 "cells": [
  {
   "cell_type": "code",
   "execution_count": null,
   "metadata": {
    "collapsed": false
   },
   "outputs": [],
   "source": [
    "#\n",
    "# Program 4.7: Restricted three-body (r3body.ipynb)\n",
    "# J Wang, Computational modeling and visualization with Python\n",
    "#\n",
    "\n",
    "import ode, numpy as np     # get ODE solvers, numpy\n",
    "import vpython as vp         # get VPython modules for animation\n",
    "vec=vp.vector\n",
    "mag = lambda x: np.sqrt(x[0]**2+x[1]**2)\n",
    "\n",
    "def r3body(y, t):   # equations of motion for restricted 3body\n",
    "    r, v = y[0], y[1]\n",
    "    r1, r2 = r - [-a,0], r - [b,0]  # rel pos vectors \n",
    "    acc = -GM*(b*r1/mag(r1)**3 + a*r2/mag(r2)**3) # \n",
    "    acc += omega**2*r + 2*omega*np.array([v[1], -v[0]]) # Coriolis term \n",
    "    return np.array([v, acc])\n",
    "\n",
    "def set_scene(r):   # r = position of test body\n",
    "    vp.canvas(title='Restricted 3body', background=vec(1,1,1))\n",
    "    body = vp.sphere(pos=vec(r[0],r[1],0), color=vec(0,0,1), radius=0.03, make_trail=1)\n",
    "    sun = vp.sphere(pos=vec(-a,0,0), color=vec(1,0,0), radius=0.1)\n",
    "    jupiter = vp.sphere(pos=vec(b, 0,0), color=vec(0,1,0), radius=0.05)\n",
    "    circle = vp.ring(pos=vec(0,0,0), color=vec(0,0,0), thickness=0.005,\n",
    "                     axis=vec(0,0,1), radius=1)      # unit circle\n",
    "    return body\n",
    "    \n",
    "def restricted_3body(y):            # y = [r, v] expected\n",
    "    testbody = set_scene(y[0])\n",
    "    t, h = 0.0, 0.001\n",
    "    while True:\n",
    "        vp.rate(2000)\n",
    "        y = ode.RK4(r3body, y, t, h)\n",
    "        testbody.pos = vec(y[0,0],y[0,1],0)\n",
    "\n",
    "GM, omega = 4*np.pi**2, 2*np.pi     # G(M1+M2), omega, RTB units\n",
    "alpha = 0.0009542                   # Sun-Jupiter system\n",
    "a, b = alpha, 1.0-alpha\n",
    "r, v = [0.509046,0.883346], [0.162719,-0.0937906]     # init pos, vel\n",
    "restricted_3body(np.array([r, v]))"
   ]
  },
  {
   "cell_type": "code",
   "execution_count": null,
   "metadata": {
    "collapsed": true
   },
   "outputs": [],
   "source": []
  }
 ],
 "metadata": {
  "kernelspec": {
   "display_name": "VPython",
   "language": "python",
   "name": "vpython"
  },
  "language_info": {
   "codemirror_mode": {
    "name": "ipython",
    "version": 2
   },
   "file_extension": ".py",
   "mimetype": "text/x-python",
   "name": "python",
   "nbconvert_exporter": "python",
   "pygments_lexer": "ipython2",
   "version": "2.7.8"
  }
 },
 "nbformat": 4,
 "nbformat_minor": 1
}
