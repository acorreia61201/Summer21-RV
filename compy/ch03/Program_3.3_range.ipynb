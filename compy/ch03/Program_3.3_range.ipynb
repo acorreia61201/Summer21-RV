{
 "cells": [
  {
   "cell_type": "code",
   "execution_count": null,
   "metadata": {},
   "outputs": [],
   "source": [
    "#\n",
    "# Program 3.3: Range vs. angle (range.ipynb)\n",
    "# J Wang, Computational modeling and visualization with Python\n",
    "#\n",
    "\n",
    "import rootfinder as rtf, math as ma   # get root finders, math\n",
    "import matplotlib.pyplot as plt # get matplotlib plot functions\n",
    "%matplotlib notebook\n",
    "\n",
    "def f(R):                       # range function, \n",
    "    return R*(vy+g/b)/vx + g*ma.log(1.-b*R/vx)/(b*b)\n",
    "\n",
    "g, b, v0 = 9.8, 1.0, 100.       # g, linear coeff., firing speed\n",
    "x, y, dtr = [], [], ma.pi/180.  # temp arrays, deg-to-rad conv\n",
    "\n",
    "for theta in range(1,90):\n",
    "    vx, vy = v0*ma.cos(theta*dtr), v0*ma.sin(theta*dtr) # init vel\n",
    "    R = rtf.bisect(f, 0.01, vx/b-1.e-5, 1.e-6)       # solve \n",
    "    if (R != None): x.append(theta), y.append(R)\n",
    "    \n",
    "plt.figure()                    # open fig, plot, label, show fig\n",
    "plt.plot(x, y), plt.xlabel('angle (deg)'), plt.ylabel('R (m)')\n",
    "plt.show()"
   ]
  },
  {
   "cell_type": "code",
   "execution_count": null,
   "metadata": {
    "collapsed": true
   },
   "outputs": [],
   "source": []
  }
 ],
 "metadata": {
  "kernelspec": {
   "display_name": "Python 3",
   "language": "python",
   "name": "python3"
  },
  "language_info": {
   "codemirror_mode": {
    "name": "ipython",
    "version": 3
   },
   "file_extension": ".py",
   "mimetype": "text/x-python",
   "name": "python",
   "nbconvert_exporter": "python",
   "pygments_lexer": "ipython3",
   "version": "3.6.1"
  }
 },
 "nbformat": 4,
 "nbformat_minor": 2
}
