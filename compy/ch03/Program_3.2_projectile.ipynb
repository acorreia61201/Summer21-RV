{
 "cells": [
  {
   "cell_type": "code",
   "execution_count": null,
   "metadata": {},
   "outputs": [],
   "source": [
    "#\n",
    "# Program 3.2: Linear drag (projectile.ipynb)\n",
    "# J Wang, Computational modeling and visualization with Python\n",
    "#\n",
    "\n",
    "import ode, numpy as np           # ODE solvers, numpy\n",
    "import matplotlib.pyplot as plt     # plot functions\n",
    "%matplotlib notebook\n",
    "\n",
    "def Lin_drag(Y, t):         # projectile motion with linear drag\n",
    "    # returns RHS of \n",
    "    return np.array([Y[2], Y[3], -b1*Y[2]/m, -g - b1*Y[3]/m])\n",
    "   \n",
    "def go(vx=5., vy=5.):               # default velocity=(5,5)\n",
    "    Y = [0., 0., vx, vy]            # initial values, [x,y,vx,vy]\n",
    "    t, h, x, y = 0., .01, [], []    # time, step size, temp arrays\n",
    "    while Y[1] >= 0.0:              # loop as long as y>=0\n",
    "        x.append(Y[0]), y.append(Y[1])              # record pos.\n",
    "        Y, t = ode.RK4(Lin_drag, Y, t, h), t+h    # update Y, t\n",
    "        \n",
    "    plt.figure()                    # open fig, plot, label, show fig\n",
    "    plt.plot(x, y), plt.xlabel('x (m)'), plt.ylabel('y (m)')\n",
    "    plt.show()                  \n",
    "    \n",
    "g, b1, m = 9.8, 0.2, 0.5            # g, linear coeff., mass\n",
    "go(vx=10.0, vy=10.0)"
   ]
  },
  {
   "cell_type": "code",
   "execution_count": null,
   "metadata": {
    "collapsed": true
   },
   "outputs": [],
   "source": []
  }
 ],
 "metadata": {
  "kernelspec": {
   "display_name": "Python 3",
   "language": "python",
   "name": "python3"
  },
  "language_info": {
   "codemirror_mode": {
    "name": "ipython",
    "version": 3
   },
   "file_extension": ".py",
   "mimetype": "text/x-python",
   "name": "python",
   "nbconvert_exporter": "python",
   "pygments_lexer": "ipython3",
   "version": "3.6.1"
  }
 },
 "nbformat": 4,
 "nbformat_minor": 2
}
