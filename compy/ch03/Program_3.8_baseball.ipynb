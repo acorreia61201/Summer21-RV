{
 "cells": [
  {
   "cell_type": "code",
   "execution_count": null,
   "metadata": {
    "collapsed": false
   },
   "outputs": [
    {
     "data": {
      "application/javascript": [
       "require.undef(\"nbextensions/vpython_libraries/jquery-ui.custom.min\");"
      ],
      "text/plain": [
       "<IPython.core.display.Javascript object>"
      ]
     },
     "metadata": {},
     "output_type": "display_data"
    },
    {
     "data": {
      "application/javascript": [
       "require.undef(\"nbextensions/vpython_libraries/glow.2.1.min\");"
      ],
      "text/plain": [
       "<IPython.core.display.Javascript object>"
      ]
     },
     "metadata": {},
     "output_type": "display_data"
    },
    {
     "data": {
      "application/javascript": [
       "require.undef(\"nbextensions/vpython_libraries/glowcomm\");"
      ],
      "text/plain": [
       "<IPython.core.display.Javascript object>"
      ]
     },
     "metadata": {},
     "output_type": "display_data"
    },
    {
     "data": {
      "application/javascript": [
       "require([\"nbextensions/vpython_libraries/jquery-ui.custom.min\"], function(){console.log(\"JQUERY LOADED\");})"
      ],
      "text/plain": [
       "<IPython.core.display.Javascript object>"
      ]
     },
     "metadata": {},
     "output_type": "display_data"
    },
    {
     "data": {
      "application/javascript": [
       "require([\"nbextensions/vpython_libraries/glow.2.1.min\"], function(){console.log(\"GLOW LOADED\");})"
      ],
      "text/plain": [
       "<IPython.core.display.Javascript object>"
      ]
     },
     "metadata": {},
     "output_type": "display_data"
    },
    {
     "data": {
      "application/javascript": [
       "require([\"nbextensions/vpython_libraries/glowcomm\"], function(){console.log(\"GLOWCOMM LOADED\");})"
      ],
      "text/plain": [
       "<IPython.core.display.Javascript object>"
      ]
     },
     "metadata": {},
     "output_type": "display_data"
    },
    {
     "data": {
      "text/html": [
       "<div id=\"glowscript\" class=\"glowscript\"></div>"
      ],
      "text/plain": [
       "<IPython.core.display.HTML object>"
      ]
     },
     "metadata": {},
     "output_type": "display_data"
    },
    {
     "data": {
      "application/javascript": [
       "window.__context = { glowscript_container: $(\"#glowscript\").removeAttr(\"id\")}"
      ],
      "text/plain": [
       "<IPython.core.display.Javascript object>"
      ]
     },
     "metadata": {},
     "output_type": "display_data"
    },
    {
     "data": {
      "text/html": [
       "<div id=\"glowscript\" class=\"glowscript\"></div>"
      ],
      "text/plain": [
       "<IPython.core.display.HTML object>"
      ]
     },
     "metadata": {},
     "output_type": "display_data"
    },
    {
     "data": {
      "application/javascript": [
       "window.__context = { glowscript_container: $(\"#glowscript\").removeAttr(\"id\")}"
      ],
      "text/plain": [
       "<IPython.core.display.Javascript object>"
      ]
     },
     "metadata": {},
     "output_type": "display_data"
    }
   ],
   "source": [
    "#\n",
    "# Program 3.8: Motion of a baseball (baseball.ipynb)\n",
    "# J Wang, Computational modeling and visualization with Python\n",
    "#\n",
    "\n",
    "import ode, vpython as vp, numpy as np     # get ODE, VPython, numpy\n",
    "vec = vp.vector\n",
    "\n",
    "def baseball(Y, t):                 # Y = [r, v] assumed\n",
    "    v = vec(Y[1,0],Y[1,1],Y[1,2])\n",
    "    fm = alpha*vp.cross(omega, v)               # Magnus force\n",
    "    a = (fm - b2*vp.mag(v)*v)/mass - vec(0,g,0)    # minus g-vec\n",
    "    return np.array([[v.x, v.y, v.z], [a.x, a.y, a.z]])  # np array\n",
    "    \n",
    "def set_scene(R):        # draw scene, ball, trails, spin, info box\n",
    "    scene = vp.canvas(background=vec(.2,.5,1), forward=vec(-1,-.1,-.1),\n",
    "                       center=vec(.5*R,1,0), ambient=vec(.4,.4,.4))\n",
    "    floor = vp.box(pos=vec(R/2,0,0), length=1.1*R, height=.1, width=8, \n",
    "                   color=vp.color.orange, opacity=0.7)  # transparent \n",
    "    zone = vp.curve(pos=[(R,0,1),(R,1,1),(R,1,-1),(R,0,-1)], radius=.02)\n",
    "    ball = vp.sphere(pos=vec(0,0,0), radius=.2)\n",
    "    trail = vp.curve(pos=vec(0,0,0), radius=0.04)\n",
    "    ideal = vp.curve(pos=vec(0,0,0), radius=0.04, color=vp.color.green)\n",
    "    spin = vp.arrow(axis=vec(omega),pos=vec(0,0,0),length=1)   # omega dir\n",
    "    info = vp.label(pos=vec(1.1*R,2,-2),text='Click above')\n",
    "    return scene, ball, trail, ideal, spin\n",
    "    \n",
    "def go(x, y, vx, vy):       # motion with full drag and spin effects\n",
    "    h, t, Y = 0.01, 0., np.array([[x,y,0.], [vx,vy,0.]])  # initialize\n",
    "    while (Y[0,0]<R and Y[0,1]>0.2):    # before homeplate&above ground\n",
    "        vp.rate(40)\n",
    "        t, Y = t+h, ode.RK4(baseball, Y, t, h)  # integrate\n",
    "        r = vec(Y[0,0],Y[0,1],Y[0,2])\n",
    "        ball.pos, spin.pos = r, r-offset # move ball, arrow \n",
    "        spin.rotate(angle=phi), ball.rotate(angle=phi,axis=omega)  #spin\n",
    "        trail.append(pos=ball.pos)\n",
    "        ideal.append(pos=vec(x+vx*t, y+vy*t-0.5*g*t*t, 0.))  # ideal case\n",
    "\n",
    "    scene.pause('Double drag to zoom; Right drag to swing; Click to repeat')\n",
    "    trail.clear()\n",
    "    ideal.clear()\n",
    "\n",
    "g, b2, alpha, mass = 9.8, .0013, 5e-5, .15  # parameters    \n",
    "R, omega = 18.4, 200.*vec(0,1,1)     # range, angular velocity \n",
    "phi, offset = np.pi/16., 0.4*omega/vp.mag(omega)\n",
    "\n",
    "scene, ball, trail, ideal, spin = set_scene(R)\n",
    "while (1):\n",
    "    go(x=0., y=2., vx=30., vy=0.)           # initially z=0, vz=0"
   ]
  },
  {
   "cell_type": "code",
   "execution_count": null,
   "metadata": {
    "collapsed": true
   },
   "outputs": [],
   "source": []
  }
 ],
 "metadata": {
  "kernelspec": {
   "display_name": "VPython",
   "language": "python",
   "name": "vpython"
  },
  "language_info": {
   "codemirror_mode": {
    "name": "ipython",
    "version": 2
   },
   "file_extension": ".py",
   "mimetype": "text/x-python",
   "name": "python",
   "nbconvert_exporter": "python",
   "pygments_lexer": "ipython2",
   "version": "2.7.8"
  }
 },
 "nbformat": 4,
 "nbformat_minor": 1
}
