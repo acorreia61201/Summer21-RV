{
 "cells": [
  {
   "cell_type": "code",
   "execution_count": null,
   "metadata": {},
   "outputs": [],
   "source": [
    "#\n",
    "# Program 3.5: Shooting method (shoot.ipynb)\n",
    "# J Wang, Computational modeling and visualization with Python\n",
    "#\n",
    "\n",
    "from __future__ import print_function       # use print() as function\n",
    "import ode, rootfinder as rtf, numpy as np   # ode, root solvers, numpy\n",
    "\n",
    "def proj(Y, t):                 # ideal projectile motion\n",
    "    return np.array([Y[2],Y[3], 0.0,-g])   # [vx,vy,ax,ay]\n",
    "   \n",
    "def fy(theta):                  # return f as a func of theta\n",
    "    Y = [0., 0., v0*np.cos(theta), v0*np.sin(theta)]    # [x,y,vx,vy]\n",
    "    t = xb / Y[2]               # Step 1: time to xb    \n",
    "    h = t / nsteps\n",
    "    for i in range(nsteps):\n",
    "        Y = ode.RK2(proj, Y, t, h)            # no need to update t\n",
    "        \n",
    "    return Y[1] - yb                            # Step 2: $y(\\theta) - y_b$\n",
    "\n",
    "# number of steps, g, init speed, x and y boundary values\n",
    "nsteps, g, v0, xb, yb = 100, 9.8, 22., 40., 3.  # para. \n",
    "\n",
    "theta = rtf.bisect(fy, 0.6, 1.2, 1.e-6)      # Step 3: shoot for $\\theta$\n",
    "if (theta != None): print('theta(deg)=',theta*180/np.pi)   # result"
   ]
  },
  {
   "cell_type": "code",
   "execution_count": null,
   "metadata": {
    "collapsed": true
   },
   "outputs": [],
   "source": []
  }
 ],
 "metadata": {
  "kernelspec": {
   "display_name": "Python 3",
   "language": "python",
   "name": "python3"
  },
  "language_info": {
   "codemirror_mode": {
    "name": "ipython",
    "version": 3
   },
   "file_extension": ".py",
   "mimetype": "text/x-python",
   "name": "python",
   "nbconvert_exporter": "python",
   "pygments_lexer": "ipython3",
   "version": "3.6.1"
  }
 },
 "nbformat": 4,
 "nbformat_minor": 2
}
