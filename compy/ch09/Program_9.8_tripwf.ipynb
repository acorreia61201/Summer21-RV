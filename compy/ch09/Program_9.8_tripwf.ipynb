{
 "cells": [
  {
   "cell_type": "code",
   "execution_count": null,
   "metadata": {
    "collapsed": true
   },
   "outputs": [],
   "source": [
    "#\n",
    "# Program 9.8: Triangle-mesh plotting of wave function (tripwf.ipynb)\n",
    "# J Wang, Computational modeling and visualization with Python\n",
    "#\n",
    "\n",
    "import numpy as np, pickle, fileio\n",
    "import matplotlib.pyplot as plt\n",
    "%matplotlib notebook\n",
    "\n",
    "meshfile, eigenfile = 'meshdata.txt', 'eigendata.dat'   # data files\n",
    "node, elm, bp, ip = fileio.readmesh(meshfile)\n",
    "file = open(eigenfile, 'rb')            # read pickled eigendata, rev. \"rb\" mode\n",
    "E, u = pickle.load(file)\n",
    "file.close()\n",
    "\n",
    "node, st = np.asarray(node), range(12)  # change st for other states\n",
    "fig = plt.figure()\n",
    "for n in range(len(st)):\n",
    "    wf = u[:, st[n]]\n",
    "    for i in bp:                        # bp should be sorted\n",
    "        wf = np.insert(wf, i, 0.)       # add boundary values, \n",
    "    ax = fig.add_subplot(4, 3, n+1, aspect='equal')     # 4x3 plots\n",
    "    plt.tripcolor(node[:,0], node[:,1], wf, shading='gouraud')\n",
    "    plt.title(repr(st[n]+1)), plt.axis('off')\n",
    "    \n",
    "plt.show()"
   ]
  },
  {
   "cell_type": "code",
   "execution_count": null,
   "metadata": {
    "collapsed": true
   },
   "outputs": [],
   "source": []
  }
 ],
 "metadata": {
  "kernelspec": {
   "display_name": "Python 3",
   "language": "python",
   "name": "python3"
  },
  "language_info": {
   "codemirror_mode": {
    "name": "ipython",
    "version": 3
   },
   "file_extension": ".py",
   "mimetype": "text/x-python",
   "name": "python",
   "nbconvert_exporter": "python",
   "pygments_lexer": "ipython3",
   "version": "3.6.1"
  }
 },
 "nbformat": 4,
 "nbformat_minor": 2
}
