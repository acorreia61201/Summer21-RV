{
 "cells": [
  {
   "cell_type": "code",
   "execution_count": null,
   "metadata": {},
   "outputs": [],
   "source": [
    "#\n",
    "# Program 9.3: Eigenenergies by FEM (qmfem.ipynb)\n",
    "# J Wang, Computational modeling and visualization with Python\n",
    "#\n",
    "\n",
    "import numpy as np\n",
    "from scipy.sparse.linalg import eigsh\n",
    "\n",
    "def V(x):                   # potential\n",
    "    return 0. if (abs(x) >= a/2.) else -V0\n",
    "\n",
    "def TB_mat(n):                           # fill in T and and B matrices\n",
    "    Tm, B = np.diag([2.]*n), np.diag([4.]*n)\n",
    "    Tm += np.diag([-1.]*(n-1),1) + np.diag([-1.]*(n-1),-1) # off diag\n",
    "    B += np.diag([1.]*(n-1),1) + np.diag([1.]*(n-1),-1)     \n",
    "    return Tm/(2.*h), B*h/6.\n",
    "    \n",
    "def Vij(i, j):      # pot. matrix Vij over $[x_i,x_{i+1}]$ by order-4 Gaussian\n",
    "    x=np.array([0.3399810435848564, 0.8611363115940525])    # abscissa\n",
    "    w=np.array([0.6521451548625463, 0.3478548451374545])    # weight\n",
    "    phi = lambda i, x: 1.0 - abs(x-xa[i])/h       # tent function\n",
    "    vV, hh = np.vectorize(V), h/2.0               # vectorize V\n",
    "    x1, x2 = xa[i] + hh - hh*x, xa[i] + hh + hh*x\n",
    "    return hh*np.sum(w * (vV(x1) * phi(i, x1) * phi(j, x1) +\n",
    "                          vV(x2) * phi(i, x2) * phi(j, x2)) )\n",
    "                        \n",
    "def V_mat():        # fill potential matrix\n",
    "    Vm = np.zeros((N-1,N-1))\n",
    "    for i in range(N):      # for each element    # contribution to:\n",
    "        if (i>0):   Vm[i-1,i-1] += Vij(i, i)      #     left node\n",
    "        if (i < N-1): Vm[i,i] += Vij(i+1, i+1)    #     right node\n",
    "        if (i>0 and i< N-1):\n",
    "            Vm[i-1,i] += Vij(i, i+1)              #     off diagonals\n",
    "            Vm[i,i-1] = Vm[i-1,i]                 #     symmetry\n",
    "    return Vm\n",
    "\n",
    "a, V0 = 4.0, 4.0                    # well width, depth\n",
    "xL, xR, N = -4*a, 4*a, 600          # boundaries, num. of elements\n",
    "xa = np.linspace(xL, xR, N+1)       # nodes\n",
    "h = xa[1]-xa[0]                     # size of element\n",
    "\n",
    "Tm, B = TB_mat(N-1)                 # obtain T, B, V matrices\n",
    "Vm = V_mat()\n",
    "    \n",
    "E, u = eigsh(Tm + Vm, 10, B, which='SA')    # get lowest 10 states \n",
    "print (E)"
   ]
  },
  {
   "cell_type": "code",
   "execution_count": null,
   "metadata": {
    "collapsed": true
   },
   "outputs": [],
   "source": []
  }
 ],
 "metadata": {
  "kernelspec": {
   "display_name": "Python 3",
   "language": "python",
   "name": "python3"
  },
  "language_info": {
   "codemirror_mode": {
    "name": "ipython",
    "version": 3
   },
   "file_extension": ".py",
   "mimetype": "text/x-python",
   "name": "python",
   "nbconvert_exporter": "python",
   "pygments_lexer": "ipython3",
   "version": "3.6.1"
  }
 },
 "nbformat": 4,
 "nbformat_minor": 2
}
