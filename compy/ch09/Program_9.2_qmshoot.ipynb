{
 "cells": [
  {
   "cell_type": "code",
   "execution_count": null,
   "metadata": {},
   "outputs": [],
   "source": [
    "#\n",
    "# Program 9.2: Shooting method for double well (qmshoot.ipynb)\n",
    "# J Wang, Computational modeling and visualization with Python\n",
    "#\n",
    "\n",
    "import numpy as np, rootfinder as rtf, ode\n",
    "import matplotlib.pyplot as plt\n",
    "%matplotlib notebook\n",
    "\n",
    "def V(x):                   # potential\n",
    "    return 0 if (abs(x) > a/2. or abs(x) < b/2.) else -V0\n",
    "    \n",
    "def sch(psi, x):            # Schrodinger eqn\n",
    "    return [psi[1], 2*(V(x)-E)*psi[0]]\n",
    "    \n",
    "def intsch(psi, n, x, h):   # integrate Sch eqn for n steps\n",
    "    psix = [psi[0]]\n",
    "    for i in range(n):\n",
    "        psi = ode.RK45n(sch, psi, x, h)\n",
    "        x += h\n",
    "        psix.append(psi[0])\n",
    "    return psix, psi        # return WF and last point\n",
    "    \n",
    "def shoot(En):              # calc diff of derivatives at given E\n",
    "    global E                # global E, needed in sch()\n",
    "    E = En\n",
    "    wfup, psiup = intsch([0., .1], N, xL, h)      # march upward \n",
    "    wfdn, psidn = intsch([0., .1], N, xR, -h)     # march downward\n",
    "    return psidn[0]*psiup[1] - psiup[0]*psidn[1]\n",
    "\n",
    "a, b, V0 = 4.0, 1.0, 6.             # double well widths, depth\n",
    "xL, xR, N = -4*a, 4*a, 500          # limits, intervals\n",
    "xa = np.linspace(xL, xR, 2*N+1)     # grid\n",
    "h, M = xa[1]-xa[0], 2               # step size, M=matching point\n",
    "E1, dE, j = -V0, 0.01, 1\n",
    "\n",
    "plt.figure()\n",
    "while (E1 < 0):     # find E, calc and plot wave function\n",
    "    if (shoot(E1) * shoot(E1 + dE) < 0):        # bracket E\n",
    "        E = rtf.bisect(shoot, E1, E1 + dE, 1.e-8)\n",
    "        print ('Energy found: %.3f' %(E))\n",
    "        wfup, psiup = intsch([0., .1], N+M, xL, h)      # compute WF\n",
    "        wfdn, psidn = intsch([0., .1], N-M, xR, -h)\n",
    "        psix = np.concatenate((wfup[:-1], wfdn[::-1]))  # combine WF\n",
    "        scale = psiup[0]/psidn[0]\n",
    "        psix[N+M:] *= scale                             # match WF\n",
    "        ax = plt.subplot(2,2,j)\n",
    "        ax.plot(xa, psix/max(psix))                     # plot WF\n",
    "        ax.plot(xa, np.vectorize(V)(xa)/(2*V0))         # overlay V\n",
    "        ax.set_xlim(-a,a)\n",
    "        ax.text(2.2,0.7, '%.3f' %(E))\n",
    "        if (j == 1 or j == 3): ax.set_ylabel(r'$\\psi$')\n",
    "        if (j == 3 or j == 4): ax.set_xlabel('$x$')\n",
    "        if (j<4): j += 1            # 4 plots max\n",
    "    E1 += dE\n",
    "plt.show()"
   ]
  },
  {
   "cell_type": "code",
   "execution_count": null,
   "metadata": {
    "collapsed": true
   },
   "outputs": [],
   "source": []
  }
 ],
 "metadata": {
  "kernelspec": {
   "display_name": "Python 3",
   "language": "python",
   "name": "python3"
  },
  "language_info": {
   "codemirror_mode": {
    "name": "ipython",
    "version": 3
   },
   "file_extension": ".py",
   "mimetype": "text/x-python",
   "name": "python",
   "nbconvert_exporter": "python",
   "pygments_lexer": "ipython3",
   "version": "3.6.1"
  }
 },
 "nbformat": 4,
 "nbformat_minor": 2
}
