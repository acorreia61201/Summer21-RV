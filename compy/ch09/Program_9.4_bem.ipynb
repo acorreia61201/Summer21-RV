{
 "cells": [
  {
   "cell_type": "code",
   "execution_count": null,
   "metadata": {},
   "outputs": [],
   "source": [
    "#\n",
    "# Program 9.4: Eigenenergies by BEM (bem.ipynb)\n",
    "# J Wang, Computational modeling and visualization with Python\n",
    "#\n",
    "\n",
    "import numpy as np, integral as itg\n",
    "from scipy.sparse.linalg import eigsh\n",
    "from scipy.special import eval_hermite, gamma, ai_zeros\n",
    "\n",
    "def V(x):                       # potential\n",
    "    return beta*abs(x)\n",
    "\n",
    "def uVu(x):                     # integrand $u_m V u_n$\n",
    "    y, c = x/a0, a0*np.sqrt(np.pi*gamma(m+1)*gamma(n+1)*2**(m+n))\n",
    "    return V(x)*eval_hermite(m,y)*eval_hermite(n,y)*np.exp(-y*y)/c\n",
    "\n",
    "beta, omega, N = 1., 1., 20     # pot slope, nat freq, num. basis states\n",
    "a0, x0 = 1/np.sqrt(omega), 1/(2*beta)**(1./3)   # length scale, x0\n",
    "\n",
    "m, Vm = np.arange(N-2), np.zeros((N,N))\n",
    "mm = np.sqrt((m+1)*(m+2))                       # calc T matrix\n",
    "Tm = np.diag(np.arange(1, N+N, 2,float))        # diagonal\n",
    "Tm -= np.diag(mm, 2) + np.diag(mm, -2)          # off diagonal by +/-2\n",
    "for m in range(N):                       # calc V matrix\n",
    "    for n in range(m, N, 2):             # m+n is even every 2 steps\n",
    "        Vm[m, n] = 2*itg.gauss(uVu, 0., 10*a0)  # use symm.\n",
    "        if (m != n): Vm[n,m] = Vm[m,n]\n",
    "Tm = Tm*omega/4.\n",
    "E, u = eigsh(Tm + Vm, 6, which='SA')     # get lowest 6 states\n",
    "\n",
    "zn, zpn, zbn, zbpn = ai_zeros(3)         # find exact values\n",
    "Ex = - beta*x0*np.insert(zpn, range(1, 4), zn)    # combine even/odd \n",
    "print (E, E/Ex)"
   ]
  },
  {
   "cell_type": "code",
   "execution_count": null,
   "metadata": {
    "collapsed": true
   },
   "outputs": [],
   "source": []
  }
 ],
 "metadata": {
  "kernelspec": {
   "display_name": "Python 3",
   "language": "python",
   "name": "python3"
  },
  "language_info": {
   "codemirror_mode": {
    "name": "ipython",
    "version": 3
   },
   "file_extension": ".py",
   "mimetype": "text/x-python",
   "name": "python",
   "nbconvert_exporter": "python",
   "pygments_lexer": "ipython3",
   "version": "3.6.1"
  }
 },
 "nbformat": 4,
 "nbformat_minor": 2
}
