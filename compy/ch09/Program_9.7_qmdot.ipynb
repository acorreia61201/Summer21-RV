{
 "cells": [
  {
   "cell_type": "code",
   "execution_count": null,
   "metadata": {
    "collapsed": true
   },
   "outputs": [],
   "source": [
    "#\n",
    "# Program 9.7: Quantum dot (qmdot.ipynb)\n",
    "# J Wang, Computational modeling and visualization with Python\n",
    "#\n",
    "\n",
    "import numpy as np, pickle, fileio, fem\n",
    "import matplotlib.pyplot as plt\n",
    "from scipy.sparse.linalg import eigsh\n",
    "from mpl_toolkits.mplot3d import Axes3D\n",
    "%matplotlib notebook\n",
    " \n",
    "nt, n = 12, 0       # nt = tot num of states, n=state to plot\n",
    "meshfile, eigenfile = 'meshdata.txt', 'eigendata.dat'   # data files\n",
    "node, elm, bp, ip = fileio.readmesh(meshfile)\n",
    "print ('nodes/elements', len(bp), len(ip), len(elm))\n",
    "\n",
    "try:\n",
    "    file = open(eigenfile, 'rb')         # if prev eigen data exists, rev. \"rb\" mode\n",
    "    E, u = pickle.load(file)             # read from file       \n",
    "except IOError:\n",
    "    Tm = 0.5*fem.A_mat(node, elm)        # no eigendata, recalculate\n",
    "    B  = fem.B_mat(node, elm)\n",
    "    Tm = np.delete(Tm, bp, axis=0)       # delete boundary rows\n",
    "    Tm = np.delete(Tm, bp, axis=1)       # delete boundary cols\n",
    "    B = np.delete(B, bp, axis=0)         \n",
    "    B = np.delete(B, bp, axis=1)         \n",
    "    E, u = eigsh(Tm, nt, B, which='SA')  # solve\n",
    "    file = open(eigenfile, 'wb')         # file overwritten, rev. \"wb\" mode for 3.xx\n",
    "    pickle.dump((E, u), file)            # \n",
    "file.close()\n",
    "\n",
    "print (E)                                # print E, prep for wf\n",
    "node, wf = np.asarray(node), u[:,n]\n",
    "for i in bp: wf = np.insert(wf, i, 0.)   # add boundary values\n",
    "\n",
    "plt.figure()                             # draw mesh\n",
    "plt.subplot(111, aspect='equal')\n",
    "plt.triplot(node[:,0], node[:,1], elm, 'o-', linewidth=1)\n",
    "plt.xlabel('$x$', size=20), plt.ylabel('$y$', size=20)\n",
    "\n",
    "fig = plt.figure()                       # plot wave function\n",
    "ax = fig.add_subplot(111, projection='3d')\n",
    "ax.plot_trisurf(node[:,0],node[:,1], wf, cmap=plt.cm.jet, linewidth=.2)\n",
    "plt.axis('off')\n",
    "\n",
    "plt.show()"
   ]
  },
  {
   "cell_type": "code",
   "execution_count": null,
   "metadata": {
    "collapsed": true
   },
   "outputs": [],
   "source": []
  }
 ],
 "metadata": {
  "kernelspec": {
   "display_name": "Python 3",
   "language": "python",
   "name": "python3"
  },
  "language_info": {
   "codemirror_mode": {
    "name": "ipython",
    "version": 3
   },
   "file_extension": ".py",
   "mimetype": "text/x-python",
   "name": "python",
   "nbconvert_exporter": "python",
   "pygments_lexer": "ipython3",
   "version": "3.6.1"
  }
 },
 "nbformat": 4,
 "nbformat_minor": 2
}
