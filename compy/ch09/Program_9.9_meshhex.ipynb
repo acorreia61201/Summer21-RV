{
 "cells": [
  {
   "cell_type": "code",
   "execution_count": null,
   "metadata": {},
   "outputs": [],
   "source": [
    "#\n",
    "# Program 9.9: Hexagon mesh generator (meshhex.ipynb)\n",
    "# J Wang, Computational modeling and visualization with Python\n",
    "#\n",
    "\n",
    "import numpy as np, fileio\n",
    "\n",
    "def mesh(a, N):                 # generate Hexagon mesh \n",
    "    node, elm = [], []          # nodes, elements\n",
    "    bp, ip, h = [], [], a/N     # boundary and internal nodes, size\n",
    "    M = (N*(3*N+1))//2          # last node before y=0 (center row)\n",
    "    K = M + 2*N +1              # last node at end of center row\n",
    "    ndn = lambda i, j: j*N + (j*(j+1))//2 + i    # node number at i,j\n",
    "    \n",
    "    for j in range(N+1):        # go up till y=0\n",
    "        x, y = - 0.5*(a + j*h), (j*h - a)*np.sqrt(3.0)/2.0\n",
    "        for i in range(N+1+j):\n",
    "            node.append([x + i*h, y])\n",
    "            if (j != N):\n",
    "                elm.append([ndn(i,j), ndn(i+1,j+1),ndn(i,j+1)])\n",
    "                if (i != N+j):\n",
    "                    elm.append([ndn(i,j), ndn(i+1,j),ndn(i+1,j+1)])\n",
    "            if (j == 0 or i == 0 or i == N+j): bp.append(ndn(i,j))\n",
    "            else: ip.append(ndn(i,j))\n",
    "    \n",
    "    node, elm = np.array(node), np.array(elm)   # get y>0 by reflection\n",
    "    flip = np.column_stack((node[:M][:,0], -node[:M][:,1])) # c-stack \n",
    "    node = np.concatenate((node, flip))         \n",
    "    \n",
    "    flip = elm[:,[1, 0, 2]]         # swap nodes so they are ccw \n",
    "    flip[flip<M] += K               # add offset, excluding center row \n",
    "    elm = np.concatenate((elm, flip))\n",
    "    \n",
    "    bp = np.concatenate((bp, K + np.array(bp[:-2])))\n",
    "    ip = np.concatenate((ip, K + np.array(ip[:-(N+N-1)])))\n",
    "    fileio.writemesh('meshHexagon.txt', node, elm.tolist(), bp, ip)\n",
    "    print ('Hex mesh: %d nodes (%d/%d bndry/intrnl), %d elements'\n",
    "            %(len(node), len(bp), len(ip), len(elm)))\n",
    "\n",
    "a, N = 1.0, 10      # side length, num intervals\n",
    "mesh(a, N)"
   ]
  },
  {
   "cell_type": "code",
   "execution_count": null,
   "metadata": {
    "collapsed": true
   },
   "outputs": [],
   "source": []
  }
 ],
 "metadata": {
  "kernelspec": {
   "display_name": "Python 3",
   "language": "python",
   "name": "python3"
  },
  "language_info": {
   "codemirror_mode": {
    "name": "ipython",
    "version": 3
   },
   "file_extension": ".py",
   "mimetype": "text/x-python",
   "name": "python",
   "nbconvert_exporter": "python",
   "pygments_lexer": "ipython3",
   "version": "3.6.1"
  }
 },
 "nbformat": 4,
 "nbformat_minor": 2
}
