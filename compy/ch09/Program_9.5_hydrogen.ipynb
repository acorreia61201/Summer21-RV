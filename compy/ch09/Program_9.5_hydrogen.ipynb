{
 "cells": [
  {
   "cell_type": "code",
   "execution_count": null,
   "metadata": {},
   "outputs": [],
   "source": [
    "#\n",
    "# Program 9.5: Hydrogen atom by Numerov's method (hydrogen.ipynb)\n",
    "# J Wang, Computational modeling and visualization with Python\n",
    "#\n",
    "\n",
    "import matplotlib.pyplot as plt\n",
    "import numpy as np, rootfinder as rtf\n",
    "%matplotlib notebook\n",
    "\n",
    "def Veff(r):                    # effective potential\n",
    "    return (L*(L+1)/(2*mass*r)-1)/r\n",
    "    \n",
    "def f(r):                       # Sch eqn in Numerov form\n",
    "    return 2*mass*(E-Veff(r))\n",
    "    \n",
    "def numerov(f, u, n, x, h):     # Numerov integrator for $u''+f(x)u=0$\n",
    "    nodes, c = 0, h*h/12.       # given $[u_0,u_1]$, return $[u_0,u_1,...,u_{n+1}]$\n",
    "    f0, f1 = 0., f(x+h)\n",
    "    for i in range(n):\n",
    "        x += h\n",
    "        f2 = f(x+h)             # Numerov method below, \n",
    "        u.append((2*(1-5*c*f1)*u[i+1] - (1+c*f0)*u[i])/(1+c*f2))  \n",
    "        f0, f1 = f1, f2\n",
    "        if (u[-1]*u[-2] < 0.0): nodes += 1\n",
    "    return u, nodes             # return u, nodes\n",
    "    \n",
    "def shoot(En):\n",
    "    global E                    # E needed in f(r)\n",
    "    E, c, xm = En, (h*h)/6., xL + M*h\n",
    "    wfup, nup = numerov(f, [0,.1], M, xL, h)\n",
    "    wfdn, ndn = numerov(f, [0,.1], N-M, xR, -h)     # $f'$ from \n",
    "    dup = ((1+c*f(xm+h))*wfup[-1] - (1+c*f(xm-h))*wfup[-3])/(h+h)\n",
    "    ddn = ((1+c*f(xm+h))*wfdn[-3] - (1+c*f(xm-h))*wfdn[-1])/(h+h)\n",
    "    return dup*wfdn[-2] - wfup[-2]*ddn\n",
    "\n",
    "xL, xR, N = 0., 120., 2200          # limits, intervals\n",
    "h, mass = (xR-xL)/N, 1.0            # step size, mass\n",
    "Lmax, EL, M = 4, [], 100            # M = matching point\n",
    "\n",
    "Estart, dE = -.5/np.arange(1, Lmax+1)**2-.1, 0.001      # $\\sim -1/2n^2$\n",
    "for L in range(Lmax):\n",
    "    n, E1, Ea = L+1, Estart[L], []\n",
    "    while (E1 < -4*dE):             # sweep E range for each L\n",
    "        E1 += dE\n",
    "        if (shoot(E1)*shoot(E1 + dE) > 0): continue\n",
    "        E = rtf.bisect(shoot, E1, E1 + dE, 1.e-8)\n",
    "        Ea.append(E)\n",
    "        wfup, nup = numerov(f, [0,.1], M-1, xL, h)      # calc wf\n",
    "        wfdn, ndn = numerov(f, [0,.1], N-M-1, xR, -h)\n",
    "        psix = np.concatenate((wfup[:-1], wfdn[::-1]))\n",
    "        psix[M:] *= wfup[-1]/wfdn[-1]                   # match\n",
    "        print ('nodes, n,l,E=', nup+ndn, n, L, E)\n",
    "        n += 1\n",
    "    EL.append(Ea)\n",
    "    \n",
    "plt.figure()                        # plot energy levels\n",
    "for L in range(Lmax):\n",
    "    for i in range(len(EL[L])):\n",
    "        plt.plot([L-.3, L+.3], [EL[L][i]]*2, 'k-')\n",
    "    plt.xlabel('$l$'), plt.ylabel('$E$')\n",
    "    plt.ylim(-.51, 0), plt.xticks(range(Lmax))\n",
    "plt.show()"
   ]
  },
  {
   "cell_type": "code",
   "execution_count": null,
   "metadata": {
    "collapsed": true
   },
   "outputs": [],
   "source": []
  }
 ],
 "metadata": {
  "kernelspec": {
   "display_name": "Python 3",
   "language": "python",
   "name": "python3"
  },
  "language_info": {
   "codemirror_mode": {
    "name": "ipython",
    "version": 3
   },
   "file_extension": ".py",
   "mimetype": "text/x-python",
   "name": "python",
   "nbconvert_exporter": "python",
   "pygments_lexer": "ipython3",
   "version": "3.6.1"
  }
 },
 "nbformat": 4,
 "nbformat_minor": 2
}
