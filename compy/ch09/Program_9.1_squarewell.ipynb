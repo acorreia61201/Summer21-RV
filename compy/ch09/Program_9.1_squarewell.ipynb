{
 "cells": [
  {
   "cell_type": "code",
   "execution_count": null,
   "metadata": {
    "collapsed": false
   },
   "outputs": [],
   "source": [
    "#\n",
    "# Program 9.1: Visual eigenstates in the square well (squarewell.ipynb)\n",
    "# J Wang, Computational modeling and visualization with Python\n",
    "#\n",
    "\n",
    "import numpy as np, vpython as vp, ode, vpmnb as vpm\n",
    "vec = vp.vector\n",
    "\n",
    "def V(x):               # potential\n",
    "    return 0. if abs(x) > a/2. else -V0\n",
    "    \n",
    "def sch(psi, x):        # Schrodinger eqn\n",
    "    return [psi[1], 2*(V(x)-E)*psi[0]]\n",
    "          \n",
    "# initialization and animation setup \n",
    "a, V0 = 4.0, 4.                     # well width, depth\n",
    "R, N = 4*a, 200                     # limit, intervals\n",
    "xa = np.linspace(-R, R, 2*N+1)      # grid\n",
    "h, z = xa[1]-xa[0], np.zeros(2*N+1) # step size\n",
    "E, dE, dpsi, psix = -V0, 0.002, 1.0, np.zeros(2*N+1)\n",
    "\n",
    "scene = vp.canvas(background=vec(.2,.5,1), range=1.5*a)\n",
    "wf = vpm.line(xa, psix, z, vp.color.red, .05)\n",
    "pot = vpm.line(xa, .5*np.vectorize(V)(xa), z, vec(1,1,1), .04) # pot. V \n",
    "info = vp.label(pos=vec(0, -0.6*a, 0), box=False, height=20)\n",
    "\n",
    "while (E < 0.0):\n",
    "    psi, x = [.0, .1], -R\n",
    "    for i in range(N):              # WF for x <=0\n",
    "        psi = ode.RK45n(sch, psi, x, h)\n",
    "        x += h\n",
    "        psix[i+1] = psi[0]          \n",
    "    psix[N+1:] = psix[N-1::-1]      # WF for x > 0 by reflection \n",
    "    if (dpsi*psi[1] < 0.):          # dpsi/dx changes sign\n",
    "        info.text='Energy found, E=%5.4f; Click to continue' %(E-dE/2)\n",
    "        vpm.pause(scene)            # any key to continue\n",
    "    else:\n",
    "        info.text='E=%5.3f' %(E)\n",
    "    wf.move(xa, 2*psix/max(psix), z), vpm.wait(scene), vp.rate(2000)\n",
    "    dpsi = psi[1]                   # old dpsi/dx at E\n",
    "    E += dE"
   ]
  },
  {
   "cell_type": "code",
   "execution_count": null,
   "metadata": {
    "collapsed": true
   },
   "outputs": [],
   "source": []
  }
 ],
 "metadata": {
  "kernelspec": {
   "display_name": "Python 2",
   "language": "python",
   "name": "python2"
  },
  "language_info": {
   "codemirror_mode": {
    "name": "ipython",
    "version": 2
   },
   "file_extension": ".py",
   "mimetype": "text/x-python",
   "name": "python",
   "nbconvert_exporter": "python",
   "pygments_lexer": "ipython2",
   "version": "2.7.8"
  }
 },
 "nbformat": 4,
 "nbformat_minor": 1
}
