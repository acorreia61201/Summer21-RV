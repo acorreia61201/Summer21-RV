{
 "cells": [
  {
   "cell_type": "code",
   "execution_count": null,
   "metadata": {},
   "outputs": [
    {
     "data": {
      "text/html": [
       "<div id=\"glowscript\" class=\"glowscript\"></div>"
      ],
      "text/plain": [
       "<IPython.core.display.HTML object>"
      ]
     },
     "metadata": {},
     "output_type": "display_data"
    },
    {
     "data": {
      "application/javascript": [
       "window.__context = { glowscript_container: $(\"#glowscript\").removeAttr(\"id\")}"
      ],
      "text/plain": [
       "<IPython.core.display.Javascript object>"
      ]
     },
     "metadata": {},
     "output_type": "display_data"
    }
   ],
   "source": [
    "# This program modifies Program 4.1 as suggested in Exercise 4.3.\n",
    "# Author: Alex Correia\n",
    "# Date: 6/17/21\n",
    "\n",
    "import numpy as np\n",
    "from compy import ode #custom module, need compy from https://github.com/com-py/compy\n",
    "import vpython as vp\n",
    "vec=vp.vector #use vpython to define vectors\n",
    "\n",
    "d = 0 # modify power of s\n",
    "\n",
    "#compute eqns of motion by leapfrog method\n",
    "def earth(id, r, v, t):            # diffeq to be supplied to ode.leapfrog\n",
    "    if (id == 0): return v         # returns f(r) = dr/dt for id == 0, else returns f(v) = dv/dt\n",
    "    s = vp.mag(vec(r[0],r[1],0))   # s = magnitude of displacement vector r\n",
    "    return -GM*r/(s**(3+d))        # acceleration eqn of motion\n",
    "\n",
    "#animate planetary motion\n",
    "def go():\n",
    "    r = np.array([0.8, 0.0])     # initial x,y position for earth   \n",
    "    v = np.array([0.0, 3.5])     # initial vx, vy                   \n",
    "    \n",
    "    # draw the scene, planet earth/path, sun/sunlight               \n",
    "    scene = vp.canvas(title='Planetary motion', background=vec(.2,.5,1), forward=vec(0,2,-1)) # set up animation\n",
    "    planet = vp.sphere(pos=vec(r[0],r[1],0), radius=0.1, make_trail=True, up=vec(0,0,1)) # planet w/ trail\n",
    "    arrow = vp.arrow(pos=vec(r[0],r[1],0), up=vec(0,0,1)) # arrow showing velocity\n",
    "    sun = vp.sphere(pos=vec(0,0,0), radius=0.2, color=vp.color.yellow) # place sun at center of coordinate space\n",
    "    sunlight = vp.local_light(pos=vec(0,0,0), color=vp.color.yellow) # light source from sun\n",
    "    \n",
    "    t, h = 0.0, 0.004 # t = time, h = timestep\n",
    "    while True:\n",
    "        vp.rate(50) # animation rate, lower rate gives smoother path, higher rate gives faster animation\n",
    "        r, v = ode.leapfrog(earth, r, v, t, h) # use leapfrog method to solve ODEs\n",
    "        planet.pos = vec(r[0],r[1],0) # move planet in animation based on current integration   \n",
    "        arrow.pos = vec(r[0],r[1],0) # arrow always on planet\n",
    "        arrow.axis = vec(v[0],v[1],0)/vp.mag(vec(v[0],v[1],0)) # direction of arrow is unit vector of v\n",
    "        \n",
    "GM = 4*np.pi*np.pi # constant used in earth()\n",
    "go()\n",
    "       \n"
   ]
  },
  {
   "cell_type": "code",
   "execution_count": null,
   "metadata": {
    "collapsed": true
   },
   "outputs": [],
   "source": [
    "'''\n",
    "Observations:\n",
    "\n",
    "a) The program was modified to change the output of earth() to -GM*r/(s**(3+d)), where d is the delta factor mentioned in\n",
    "the problem. When d is 0, the orbit appears exactly as shown in Fig. 4.4. However, when d = 0.2, the planet seems to move\n",
    "from this initial orbit very slightly over time, creating a thick trail that nonetheless still appears circular. It becomes\n",
    "clear that d =/= 0 produces an open orbit once d = 0.5, in which even the first revolution is clearly not closed.\n",
    "\n",
    "b) When the initial conditions are changed as suggested (i.e. r = [0.8, 0], v = [0, 3.5]), the planet has a higly elliptical\n",
    "orbit and appears to precess even at h = 0.001. This effect becomes even more pronounced at h = 0.004. Even though there was\n",
    "no change to the force law being applied, the program still produces a precession, suggesting that there must be some\n",
    "numerical artifact that artificially causes precession. Perhaps this is related to the timestep h, as larger h seems to\n",
    "create a more pronounced precession.\n",
    "'''"
   ]
  }
 ],
 "metadata": {
  "kernelspec": {
   "display_name": "VPython",
   "language": "python",
   "name": "vpython"
  },
  "language_info": {
   "codemirror_mode": {
    "name": "ipython",
    "version": 3
   },
   "file_extension": ".py",
   "mimetype": "text/x-python",
   "name": "python",
   "nbconvert_exporter": "python",
   "pygments_lexer": "ipython3",
   "version": "3.6.9"
  }
 },
 "nbformat": 4,
 "nbformat_minor": 1
}
